{
 "cells": [
  {
   "cell_type": "code",
   "execution_count": 1,
   "metadata": {},
   "outputs": [],
   "source": [
    "import pandas as pd \n",
    "import numpy as np \n",
    "import seaborn as sns \n",
    "import matplotlib.pyplot as plt"
   ]
  },
  {
   "cell_type": "code",
   "execution_count": 3,
   "metadata": {},
   "outputs": [],
   "source": [
    "data= pd.read_csv(\"F:\\machinfy\\mohamed\\working\\working machinfy\\Data Sets for Linear Regression\\Fish.csv\", sep=',',encoding=\"utf-8\")"
   ]
  },
  {
   "cell_type": "code",
   "execution_count": 4,
   "metadata": {},
   "outputs": [
    {
     "name": "stdout",
     "output_type": "stream",
     "text": [
      "<class 'pandas.core.frame.DataFrame'>\n",
      "RangeIndex: 159 entries, 0 to 158\n",
      "Data columns (total 7 columns):\n",
      " #   Column   Non-Null Count  Dtype  \n",
      "---  ------   --------------  -----  \n",
      " 0   Species  159 non-null    object \n",
      " 1   Weight   159 non-null    float64\n",
      " 2   Length1  159 non-null    float64\n",
      " 3   Length2  159 non-null    float64\n",
      " 4   Length3  159 non-null    float64\n",
      " 5   Height   159 non-null    float64\n",
      " 6   Width    159 non-null    float64\n",
      "dtypes: float64(6), object(1)\n",
      "memory usage: 8.8+ KB\n"
     ]
    }
   ],
   "source": [
    "data.info()"
   ]
  },
  {
   "cell_type": "code",
   "execution_count": 5,
   "metadata": {},
   "outputs": [
    {
     "data": {
      "text/html": [
       "<div>\n",
       "<style scoped>\n",
       "    .dataframe tbody tr th:only-of-type {\n",
       "        vertical-align: middle;\n",
       "    }\n",
       "\n",
       "    .dataframe tbody tr th {\n",
       "        vertical-align: top;\n",
       "    }\n",
       "\n",
       "    .dataframe thead th {\n",
       "        text-align: right;\n",
       "    }\n",
       "</style>\n",
       "<table border=\"1\" class=\"dataframe\">\n",
       "  <thead>\n",
       "    <tr style=\"text-align: right;\">\n",
       "      <th></th>\n",
       "      <th>Weight</th>\n",
       "      <th>Length1</th>\n",
       "      <th>Length2</th>\n",
       "      <th>Length3</th>\n",
       "      <th>Height</th>\n",
       "      <th>Width</th>\n",
       "    </tr>\n",
       "  </thead>\n",
       "  <tbody>\n",
       "    <tr>\n",
       "      <th>count</th>\n",
       "      <td>159.000000</td>\n",
       "      <td>159.000000</td>\n",
       "      <td>159.000000</td>\n",
       "      <td>159.000000</td>\n",
       "      <td>159.000000</td>\n",
       "      <td>159.000000</td>\n",
       "    </tr>\n",
       "    <tr>\n",
       "      <th>mean</th>\n",
       "      <td>398.326415</td>\n",
       "      <td>26.247170</td>\n",
       "      <td>28.415723</td>\n",
       "      <td>31.227044</td>\n",
       "      <td>8.970994</td>\n",
       "      <td>4.417486</td>\n",
       "    </tr>\n",
       "    <tr>\n",
       "      <th>std</th>\n",
       "      <td>357.978317</td>\n",
       "      <td>9.996441</td>\n",
       "      <td>10.716328</td>\n",
       "      <td>11.610246</td>\n",
       "      <td>4.286208</td>\n",
       "      <td>1.685804</td>\n",
       "    </tr>\n",
       "    <tr>\n",
       "      <th>min</th>\n",
       "      <td>0.000000</td>\n",
       "      <td>7.500000</td>\n",
       "      <td>8.400000</td>\n",
       "      <td>8.800000</td>\n",
       "      <td>1.728400</td>\n",
       "      <td>1.047600</td>\n",
       "    </tr>\n",
       "    <tr>\n",
       "      <th>25%</th>\n",
       "      <td>120.000000</td>\n",
       "      <td>19.050000</td>\n",
       "      <td>21.000000</td>\n",
       "      <td>23.150000</td>\n",
       "      <td>5.944800</td>\n",
       "      <td>3.385650</td>\n",
       "    </tr>\n",
       "    <tr>\n",
       "      <th>50%</th>\n",
       "      <td>273.000000</td>\n",
       "      <td>25.200000</td>\n",
       "      <td>27.300000</td>\n",
       "      <td>29.400000</td>\n",
       "      <td>7.786000</td>\n",
       "      <td>4.248500</td>\n",
       "    </tr>\n",
       "    <tr>\n",
       "      <th>75%</th>\n",
       "      <td>650.000000</td>\n",
       "      <td>32.700000</td>\n",
       "      <td>35.500000</td>\n",
       "      <td>39.650000</td>\n",
       "      <td>12.365900</td>\n",
       "      <td>5.584500</td>\n",
       "    </tr>\n",
       "    <tr>\n",
       "      <th>max</th>\n",
       "      <td>1650.000000</td>\n",
       "      <td>59.000000</td>\n",
       "      <td>63.400000</td>\n",
       "      <td>68.000000</td>\n",
       "      <td>18.957000</td>\n",
       "      <td>8.142000</td>\n",
       "    </tr>\n",
       "  </tbody>\n",
       "</table>\n",
       "</div>"
      ],
      "text/plain": [
       "            Weight     Length1     Length2     Length3      Height       Width\n",
       "count   159.000000  159.000000  159.000000  159.000000  159.000000  159.000000\n",
       "mean    398.326415   26.247170   28.415723   31.227044    8.970994    4.417486\n",
       "std     357.978317    9.996441   10.716328   11.610246    4.286208    1.685804\n",
       "min       0.000000    7.500000    8.400000    8.800000    1.728400    1.047600\n",
       "25%     120.000000   19.050000   21.000000   23.150000    5.944800    3.385650\n",
       "50%     273.000000   25.200000   27.300000   29.400000    7.786000    4.248500\n",
       "75%     650.000000   32.700000   35.500000   39.650000   12.365900    5.584500\n",
       "max    1650.000000   59.000000   63.400000   68.000000   18.957000    8.142000"
      ]
     },
     "execution_count": 5,
     "metadata": {},
     "output_type": "execute_result"
    }
   ],
   "source": [
    "data.describe()"
   ]
  },
  {
   "cell_type": "code",
   "execution_count": 8,
   "metadata": {},
   "outputs": [
    {
     "data": {
      "text/plain": [
       "(159, 7)"
      ]
     },
     "execution_count": 8,
     "metadata": {},
     "output_type": "execute_result"
    }
   ],
   "source": [
    "data.shape"
   ]
  },
  {
   "cell_type": "code",
   "execution_count": 6,
   "metadata": {},
   "outputs": [
    {
     "data": {
      "text/plain": [
       "<AxesSubplot:xlabel='Weight', ylabel='Count'>"
      ]
     },
     "execution_count": 6,
     "metadata": {},
     "output_type": "execute_result"
    },
    {
     "data": {
      "image/png": "[encoded data removed]",
      "text/plain": [
       "<Figure size 432x288 with 1 Axes>"
      ]
     },
     "metadata": {
      "needs_background": "light"
     },
     "output_type": "display_data"
    }
   ],
   "source": [
    "sns.histplot(x=data['Weight'])"
   ]
  },
  {
   "cell_type": "code",
   "execution_count": 7,
   "metadata": {},
   "outputs": [
    {
     "data": {
      "text/plain": [
       "<AxesSubplot:ylabel='Weight'>"
      ]
     },
     "execution_count": 7,
     "metadata": {},
     "output_type": "execute_result"
    },
    {
     "data": {
      "image/png": "[encoded data removed]",
      "text/plain": [
       "<Figure size 432x288 with 1 Axes>"
      ]
     },
     "metadata": {
      "needs_background": "light"
     },
     "output_type": "display_data"
    }
   ],
   "source": [
    "sns.boxplot(y='Weight', data=data)"
   ]
  },
  {
   "cell_type": "code",
   "execution_count": 9,
   "metadata": {},
   "outputs": [
    {
     "data": {
      "text/plain": [
       "Perch        56\n",
       "Bream        35\n",
       "Roach        20\n",
       "Pike         17\n",
       "Smelt        14\n",
       "Parkki       11\n",
       "Whitefish     6\n",
       "Name: Species, dtype: int64"
      ]
     },
     "execution_count": 9,
     "metadata": {},
     "output_type": "execute_result"
    }
   ],
   "source": [
    "data['Species'].value_counts()"
   ]
  },
  {
   "cell_type": "code",
   "execution_count": 10,
   "metadata": {},
   "outputs": [
    {
     "data": {
      "text/html": [
       "<style  type=\"text/css\" >\n",
       "#T_716bde0f_7b71_11eb_8b11_844bf531462erow0_col0,#T_716bde0f_7b71_11eb_8b11_844bf531462erow1_col1,#T_716bde0f_7b71_11eb_8b11_844bf531462erow1_col2,#T_716bde0f_7b71_11eb_8b11_844bf531462erow2_col1,#T_716bde0f_7b71_11eb_8b11_844bf531462erow2_col2,#T_716bde0f_7b71_11eb_8b11_844bf531462erow3_col3,#T_716bde0f_7b71_11eb_8b11_844bf531462erow4_col4,#T_716bde0f_7b71_11eb_8b11_844bf531462erow5_col5{\n",
       "            background-color:  #023858;\n",
       "            color:  #f1f1f1;\n",
       "        }#T_716bde0f_7b71_11eb_8b11_844bf531462erow0_col1,#T_716bde0f_7b71_11eb_8b11_844bf531462erow0_col2{\n",
       "            background-color:  #056ba9;\n",
       "            color:  #f1f1f1;\n",
       "        }#T_716bde0f_7b71_11eb_8b11_844bf531462erow0_col3{\n",
       "            background-color:  #0872b1;\n",
       "            color:  #f1f1f1;\n",
       "        }#T_716bde0f_7b71_11eb_8b11_844bf531462erow0_col4{\n",
       "            background-color:  #cccfe5;\n",
       "            color:  #000000;\n",
       "        }#T_716bde0f_7b71_11eb_8b11_844bf531462erow0_col5{\n",
       "            background-color:  #88b1d4;\n",
       "            color:  #000000;\n",
       "        }#T_716bde0f_7b71_11eb_8b11_844bf531462erow1_col0{\n",
       "            background-color:  #1b7eb7;\n",
       "            color:  #000000;\n",
       "        }#T_716bde0f_7b71_11eb_8b11_844bf531462erow1_col3{\n",
       "            background-color:  #023e62;\n",
       "            color:  #f1f1f1;\n",
       "        }#T_716bde0f_7b71_11eb_8b11_844bf531462erow1_col4,#T_716bde0f_7b71_11eb_8b11_844bf531462erow4_col0,#T_716bde0f_7b71_11eb_8b11_844bf531462erow4_col1,#T_716bde0f_7b71_11eb_8b11_844bf531462erow4_col2,#T_716bde0f_7b71_11eb_8b11_844bf531462erow4_col3,#T_716bde0f_7b71_11eb_8b11_844bf531462erow4_col5{\n",
       "            background-color:  #fff7fb;\n",
       "            color:  #000000;\n",
       "        }#T_716bde0f_7b71_11eb_8b11_844bf531462erow1_col5{\n",
       "            background-color:  #acc0dd;\n",
       "            color:  #000000;\n",
       "        }#T_716bde0f_7b71_11eb_8b11_844bf531462erow2_col0{\n",
       "            background-color:  #167bb6;\n",
       "            color:  #000000;\n",
       "        }#T_716bde0f_7b71_11eb_8b11_844bf531462erow2_col3,#T_716bde0f_7b71_11eb_8b11_844bf531462erow3_col1{\n",
       "            background-color:  #023d60;\n",
       "            color:  #f1f1f1;\n",
       "        }#T_716bde0f_7b71_11eb_8b11_844bf531462erow2_col4{\n",
       "            background-color:  #f9f2f8;\n",
       "            color:  #000000;\n",
       "        }#T_716bde0f_7b71_11eb_8b11_844bf531462erow2_col5{\n",
       "            background-color:  #a1bbda;\n",
       "            color:  #000000;\n",
       "        }#T_716bde0f_7b71_11eb_8b11_844bf531462erow3_col0{\n",
       "            background-color:  #1077b4;\n",
       "            color:  #f1f1f1;\n",
       "        }#T_716bde0f_7b71_11eb_8b11_844bf531462erow3_col2{\n",
       "            background-color:  #023c5f;\n",
       "            color:  #f1f1f1;\n",
       "        }#T_716bde0f_7b71_11eb_8b11_844bf531462erow3_col4{\n",
       "            background-color:  #d9d8ea;\n",
       "            color:  #000000;\n",
       "        }#T_716bde0f_7b71_11eb_8b11_844bf531462erow3_col5{\n",
       "            background-color:  #97b7d7;\n",
       "            color:  #000000;\n",
       "        }#T_716bde0f_7b71_11eb_8b11_844bf531462erow5_col0{\n",
       "            background-color:  #4897c4;\n",
       "            color:  #000000;\n",
       "        }#T_716bde0f_7b71_11eb_8b11_844bf531462erow5_col1,#T_716bde0f_7b71_11eb_8b11_844bf531462erow5_col2{\n",
       "            background-color:  #2d8abd;\n",
       "            color:  #000000;\n",
       "        }#T_716bde0f_7b71_11eb_8b11_844bf531462erow5_col3{\n",
       "            background-color:  #4697c4;\n",
       "            color:  #000000;\n",
       "        }#T_716bde0f_7b71_11eb_8b11_844bf531462erow5_col4{\n",
       "            background-color:  #89b1d4;\n",
       "            color:  #000000;\n",
       "        }</style><table id=\"T_716bde0f_7b71_11eb_8b11_844bf531462e\" ><thead>    <tr>        <th class=\"blank level0\" ></th>        <th class=\"col_heading level0 col0\" >Weight</th>        <th class=\"col_heading level0 col1\" >Length1</th>        <th class=\"col_heading level0 col2\" >Length2</th>        <th class=\"col_heading level0 col3\" >Length3</th>        <th class=\"col_heading level0 col4\" >Height</th>        <th class=\"col_heading level0 col5\" >Width</th>    </tr></thead><tbody>\n",
       "                <tr>\n",
       "                        <th id=\"T_716bde0f_7b71_11eb_8b11_844bf531462elevel0_row0\" class=\"row_heading level0 row0\" >Weight</th>\n",
       "                        <td id=\"T_716bde0f_7b71_11eb_8b11_844bf531462erow0_col0\" class=\"data row0 col0\" >1.000000</td>\n",
       "                        <td id=\"T_716bde0f_7b71_11eb_8b11_844bf531462erow0_col1\" class=\"data row0 col1\" >0.915712</td>\n",
       "                        <td id=\"T_716bde0f_7b71_11eb_8b11_844bf531462erow0_col2\" class=\"data row0 col2\" >0.918618</td>\n",
       "                        <td id=\"T_716bde0f_7b71_11eb_8b11_844bf531462erow0_col3\" class=\"data row0 col3\" >0.923044</td>\n",
       "                        <td id=\"T_716bde0f_7b71_11eb_8b11_844bf531462erow0_col4\" class=\"data row0 col4\" >0.724345</td>\n",
       "                        <td id=\"T_716bde0f_7b71_11eb_8b11_844bf531462erow0_col5\" class=\"data row0 col5\" >0.886507</td>\n",
       "            </tr>\n",
       "            <tr>\n",
       "                        <th id=\"T_716bde0f_7b71_11eb_8b11_844bf531462elevel0_row1\" class=\"row_heading level0 row1\" >Length1</th>\n",
       "                        <td id=\"T_716bde0f_7b71_11eb_8b11_844bf531462erow1_col0\" class=\"data row1 col0\" >0.915712</td>\n",
       "                        <td id=\"T_716bde0f_7b71_11eb_8b11_844bf531462erow1_col1\" class=\"data row1 col1\" >1.000000</td>\n",
       "                        <td id=\"T_716bde0f_7b71_11eb_8b11_844bf531462erow1_col2\" class=\"data row1 col2\" >0.999517</td>\n",
       "                        <td id=\"T_716bde0f_7b71_11eb_8b11_844bf531462erow1_col3\" class=\"data row1 col3\" >0.992031</td>\n",
       "                        <td id=\"T_716bde0f_7b71_11eb_8b11_844bf531462erow1_col4\" class=\"data row1 col4\" >0.625378</td>\n",
       "                        <td id=\"T_716bde0f_7b71_11eb_8b11_844bf531462erow1_col5\" class=\"data row1 col5\" >0.867050</td>\n",
       "            </tr>\n",
       "            <tr>\n",
       "                        <th id=\"T_716bde0f_7b71_11eb_8b11_844bf531462elevel0_row2\" class=\"row_heading level0 row2\" >Length2</th>\n",
       "                        <td id=\"T_716bde0f_7b71_11eb_8b11_844bf531462erow2_col0\" class=\"data row2 col0\" >0.918618</td>\n",
       "                        <td id=\"T_716bde0f_7b71_11eb_8b11_844bf531462erow2_col1\" class=\"data row2 col1\" >0.999517</td>\n",
       "                        <td id=\"T_716bde0f_7b71_11eb_8b11_844bf531462erow2_col2\" class=\"data row2 col2\" >1.000000</td>\n",
       "                        <td id=\"T_716bde0f_7b71_11eb_8b11_844bf531462erow2_col3\" class=\"data row2 col3\" >0.994103</td>\n",
       "                        <td id=\"T_716bde0f_7b71_11eb_8b11_844bf531462erow2_col4\" class=\"data row2 col4\" >0.640441</td>\n",
       "                        <td id=\"T_716bde0f_7b71_11eb_8b11_844bf531462erow2_col5\" class=\"data row2 col5\" >0.873547</td>\n",
       "            </tr>\n",
       "            <tr>\n",
       "                        <th id=\"T_716bde0f_7b71_11eb_8b11_844bf531462elevel0_row3\" class=\"row_heading level0 row3\" >Length3</th>\n",
       "                        <td id=\"T_716bde0f_7b71_11eb_8b11_844bf531462erow3_col0\" class=\"data row3 col0\" >0.923044</td>\n",
       "                        <td id=\"T_716bde0f_7b71_11eb_8b11_844bf531462erow3_col1\" class=\"data row3 col1\" >0.992031</td>\n",
       "                        <td id=\"T_716bde0f_7b71_11eb_8b11_844bf531462erow3_col2\" class=\"data row3 col2\" >0.994103</td>\n",
       "                        <td id=\"T_716bde0f_7b71_11eb_8b11_844bf531462erow3_col3\" class=\"data row3 col3\" >1.000000</td>\n",
       "                        <td id=\"T_716bde0f_7b71_11eb_8b11_844bf531462erow3_col4\" class=\"data row3 col4\" >0.703409</td>\n",
       "                        <td id=\"T_716bde0f_7b71_11eb_8b11_844bf531462erow3_col5\" class=\"data row3 col5\" >0.878520</td>\n",
       "            </tr>\n",
       "            <tr>\n",
       "                        <th id=\"T_716bde0f_7b71_11eb_8b11_844bf531462elevel0_row4\" class=\"row_heading level0 row4\" >Height</th>\n",
       "                        <td id=\"T_716bde0f_7b71_11eb_8b11_844bf531462erow4_col0\" class=\"data row4 col0\" >0.724345</td>\n",
       "                        <td id=\"T_716bde0f_7b71_11eb_8b11_844bf531462erow4_col1\" class=\"data row4 col1\" >0.625378</td>\n",
       "                        <td id=\"T_716bde0f_7b71_11eb_8b11_844bf531462erow4_col2\" class=\"data row4 col2\" >0.640441</td>\n",
       "                        <td id=\"T_716bde0f_7b71_11eb_8b11_844bf531462erow4_col3\" class=\"data row4 col3\" >0.703409</td>\n",
       "                        <td id=\"T_716bde0f_7b71_11eb_8b11_844bf531462erow4_col4\" class=\"data row4 col4\" >1.000000</td>\n",
       "                        <td id=\"T_716bde0f_7b71_11eb_8b11_844bf531462erow4_col5\" class=\"data row4 col5\" >0.792881</td>\n",
       "            </tr>\n",
       "            <tr>\n",
       "                        <th id=\"T_716bde0f_7b71_11eb_8b11_844bf531462elevel0_row5\" class=\"row_heading level0 row5\" >Width</th>\n",
       "                        <td id=\"T_716bde0f_7b71_11eb_8b11_844bf531462erow5_col0\" class=\"data row5 col0\" >0.886507</td>\n",
       "                        <td id=\"T_716bde0f_7b71_11eb_8b11_844bf531462erow5_col1\" class=\"data row5 col1\" >0.867050</td>\n",
       "                        <td id=\"T_716bde0f_7b71_11eb_8b11_844bf531462erow5_col2\" class=\"data row5 col2\" >0.873547</td>\n",
       "                        <td id=\"T_716bde0f_7b71_11eb_8b11_844bf531462erow5_col3\" class=\"data row5 col3\" >0.878520</td>\n",
       "                        <td id=\"T_716bde0f_7b71_11eb_8b11_844bf531462erow5_col4\" class=\"data row5 col4\" >0.792881</td>\n",
       "                        <td id=\"T_716bde0f_7b71_11eb_8b11_844bf531462erow5_col5\" class=\"data row5 col5\" >1.000000</td>\n",
       "            </tr>\n",
       "    </tbody></table>"
      ],
      "text/plain": [
       "<pandas.io.formats.style.Styler at 0x1c3301c8040>"
      ]
     },
     "execution_count": 10,
     "metadata": {},
     "output_type": "execute_result"
    }
   ],
   "source": [
    "d_corr = data.corr()\n",
    "d_corr.style.background_gradient()"
   ]
  },
  {
   "cell_type": "code",
   "execution_count": 11,
   "metadata": {},
   "outputs": [
    {
     "data": {
      "image/png": "[encoded data removed]",
      "text/plain": [
       "<Figure size 1080x720 with 2 Axes>"
      ]
     },
     "metadata": {
      "needs_background": "light"
     },
     "output_type": "display_data"
    }
   ],
   "source": [
    "plt.figure(figsize=(15,10))\n",
    "sns.heatmap(data.corr(), cmap='viridis', cbar=True , annot=True, yticklabels =True)\n",
    "plt.show()"
   ]
  },
  {
   "cell_type": "code",
   "execution_count": 13,
   "metadata": {},
   "outputs": [
    {
     "data": {
      "text/plain": [
       "Species    0\n",
       "Weight     0\n",
       "Length1    0\n",
       "Length2    0\n",
       "Length3    0\n",
       "Height     0\n",
       "Width      0\n",
       "dtype: int64"
      ]
     },
     "execution_count": 13,
     "metadata": {},
     "output_type": "execute_result"
    }
   ],
   "source": [
    "data.isnull().sum()"
   ]
  },
  {
   "cell_type": "code",
   "execution_count": 14,
   "metadata": {},
   "outputs": [
    {
     "data": {
      "text/plain": [
       "<AxesSubplot:ylabel='Weight'>"
      ]
     },
     "execution_count": 14,
     "metadata": {},
     "output_type": "execute_result"
    },
    {
     "data": {
      "image/png": "[encoded data removed]",
      "text/plain": [
       "<Figure size 432x288 with 1 Axes>"
      ]
     },
     "metadata": {
      "needs_background": "light"
     },
     "output_type": "display_data"
    }
   ],
   "source": [
    "sns.boxplot(y='Weight', data=data)"
   ]
  },
  {
   "cell_type": "code",
   "execution_count": 31,
   "metadata": {},
   "outputs": [
    {
     "data": {
      "text/plain": [
       "142    1600.0\n",
       "143    1550.0\n",
       "144    1650.0\n",
       "Name: Weight, dtype: float64"
      ]
     },
     "execution_count": 31,
     "metadata": {},
     "output_type": "execute_result"
    }
   ],
   "source": [
    "data_weight = data['Weight']\n",
    "\n",
    "#quartiles\n",
    "data_weight_q1 = data_weight.quantile(0.25)\n",
    "data_weight_q2 = data_weight.quantile(0.5)\n",
    "data_weight_q3 = data_weight.quantile(0.75)\n",
    "\n",
    "#inter quartile range\n",
    "data_weight_iqr = data_weight_q3 - data_weight_q1\n",
    "\n",
    "#lower whisker point\n",
    "data_weight_lower = data_weight_q1 - (1.5 * data_weight_iqr)\n",
    "\n",
    "#upper whisker point\n",
    "data_weight_upper = data_weight_q3 + (1.5 * data_weight_iqr)\n",
    "\n",
    "data_weight_outliers = data_weight[(data_weight < data_weight_lower) | (data_weight > data_weight_upper)]\n",
    "data_weight_outliers"
   ]
  },
  {
   "cell_type": "code",
   "execution_count": 16,
   "metadata": {},
   "outputs": [
    {
     "name": "stderr",
     "output_type": "stream",
     "text": [
      "C:\\Users\\Qebaa\\anaconda3\\lib\\site-packages\\seaborn\\_decorators.py:36: FutureWarning: Pass the following variable as a keyword arg: x. From version 0.12, the only valid positional argument will be `data`, and passing other arguments without an explicit keyword will result in an error or misinterpretation.\n",
      "  warnings.warn(\n"
     ]
    },
    {
     "data": {
      "image/png": "[encoded data removed]",
      "text/plain": [
       "<Figure size 432x288 with 1 Axes>"
      ]
     },
     "metadata": {
      "needs_background": "light"
     },
     "output_type": "display_data"
    }
   ],
   "source": [
    "sns.countplot(data['Species'])\n",
    "plt.xlabel('Species', size=14)\n",
    "plt.ylabel('Count', size=14)\n",
    "plt.xticks(rotation=30, size=12)\n",
    "plt.yticks(size=12)\n",
    "plt.show()"
   ]
  },
  {
   "cell_type": "code",
   "execution_count": 17,
   "metadata": {},
   "outputs": [
    {
     "name": "stderr",
     "output_type": "stream",
     "text": [
      "C:\\Users\\Qebaa\\anaconda3\\lib\\site-packages\\seaborn\\_decorators.py:36: FutureWarning: Pass the following variables as keyword args: x, y. From version 0.12, the only valid positional argument will be `data`, and passing other arguments without an explicit keyword will result in an error or misinterpretation.\n",
      "  warnings.warn(\n"
     ]
    },
    {
     "data": {
      "text/plain": [
       "<AxesSubplot:xlabel='Length1', ylabel='Species'>"
      ]
     },
     "execution_count": 17,
     "metadata": {},
     "output_type": "execute_result"
    },
    {
     "data": {
      "image/png": "[encoded data removed]",
      "text/plain": [
       "<Figure size 432x288 with 1 Axes>"
      ]
     },
     "metadata": {
      "needs_background": "light"
     },
     "output_type": "display_data"
    }
   ],
   "source": [
    "sns.boxplot(data['Length1'], data['Species'])"
   ]
  },
  {
   "cell_type": "code",
   "execution_count": 19,
   "metadata": {},
   "outputs": [
    {
     "data": {
      "text/plain": [
       "<AxesSubplot:ylabel='Length1'>"
      ]
     },
     "execution_count": 19,
     "metadata": {},
     "output_type": "execute_result"
    },
    {
     "data": {
      "image/png": "[encoded data removed]",
      "text/plain": [
       "<Figure size 432x288 with 1 Axes>"
      ]
     },
     "metadata": {
      "needs_background": "light"
     },
     "output_type": "display_data"
    }
   ],
   "source": [
    "sns.boxplot(y=data['Length1'], data=data)"
   ]
  },
  {
   "cell_type": "code",
   "execution_count": 20,
   "metadata": {},
   "outputs": [
    {
     "data": {
      "text/plain": [
       "142    56.0\n",
       "143    56.0\n",
       "144    59.0\n",
       "Name: Length1, dtype: float64"
      ]
     },
     "execution_count": 20,
     "metadata": {},
     "output_type": "execute_result"
    }
   ],
   "source": [
    "data_L1 = data['Length1']\n",
    "\n",
    "#quartiles\n",
    "data_L1_q1 = data_L1.quantile(0.25)\n",
    "data_L1_q2 = data_L1.quantile(0.5)\n",
    "data_L1_q3 = data_L1.quantile(0.75)\n",
    "\n",
    "#inter quartile range\n",
    "data_L1_iqr = data_L1_q3 - data_L1_q1\n",
    "\n",
    "#lower whisker point\n",
    "data_L1_lower = data_L1_q1 - (1.5 * data_L1_iqr)\n",
    "\n",
    "#upper whisker point\n",
    "data_L1_upper = data_L1_q3 + (1.5 * data_L1_iqr)\n",
    "\n",
    "data_L1_outliers = data_L1[(data_L1 < data_L1_lower) | (data_L1 > data_L1_upper)]\n",
    "data_L1_outliers"
   ]
  },
  {
   "cell_type": "code",
   "execution_count": 21,
   "metadata": {},
   "outputs": [
    {
     "data": {
      "image/png": "[encoded data removed]",
      "text/plain": [
       "<Figure size 432x288 with 1 Axes>"
      ]
     },
     "metadata": {
      "needs_background": "light"
     },
     "output_type": "display_data"
    }
   ],
   "source": [
    "sns.boxplot(y='Length2', data=data)\n",
    "plt.show()"
   ]
  },
  {
   "cell_type": "code",
   "execution_count": 24,
   "metadata": {},
   "outputs": [
    {
     "data": {
      "text/plain": [
       "142    60.0\n",
       "143    60.0\n",
       "144    63.4\n",
       "Name: Length2, dtype: float64"
      ]
     },
     "execution_count": 24,
     "metadata": {},
     "output_type": "execute_result"
    }
   ],
   "source": [
    "data_L2 = data['Length2']\n",
    "\n",
    "#quartiles\n",
    "data_L2_q1 = data_L2.quantile(0.25)\n",
    "data_L2_q2 = data_L2.quantile(0.5)\n",
    "data_L2_q3 = data_L2.quantile(0.75)\n",
    "\n",
    "#inter quartile range\n",
    "data_L2_iqr = data_L2_q3 - data_L2_q1\n",
    "\n",
    "#lower whisker point\n",
    "data_L2_lower = data_L2_q1 - (1.5 * data_L2_iqr)\n",
    "\n",
    "#upper whisker point\n",
    "data_L2_upper = data_L2_q3 + (1.5 * data_L2_iqr)\n",
    "\n",
    "data_L2_outliers = data_L2[(data_L2 < data_L2_lower) | (data_L2 > data_L2_upper)]\n",
    "data_L2_outliers"
   ]
  },
  {
   "cell_type": "code",
   "execution_count": 25,
   "metadata": {},
   "outputs": [
    {
     "data": {
      "image/png": "[encoded data removed]",
      "text/plain": [
       "<Figure size 432x288 with 1 Axes>"
      ]
     },
     "metadata": {
      "needs_background": "light"
     },
     "output_type": "display_data"
    }
   ],
   "source": [
    "sns.boxplot(y='Length3' , data=data)\n",
    "plt.show()"
   ]
  },
  {
   "cell_type": "code",
   "execution_count": 26,
   "metadata": {},
   "outputs": [
    {
     "data": {
      "text/plain": [
       "144    68.0\n",
       "Name: Length3, dtype: float64"
      ]
     },
     "execution_count": 26,
     "metadata": {},
     "output_type": "execute_result"
    }
   ],
   "source": [
    "data_L3= data['Length3']\n",
    "\n",
    "#quartiles\n",
    "data_L3_q1 = data_L3.quantile(0.25)\n",
    "data_L3_q2 = data_L3.quantile(0.5)\n",
    "data_L3_q3 = data_L3.quantile(0.75)\n",
    "\n",
    "#inter quartile range\n",
    "data_L3_iqr = data_L3_q3 - data_L3_q1\n",
    "\n",
    "#lower whisker point\n",
    "data_L3_lower = data_L3_q1 - (1.5 * data_L3_iqr)\n",
    "\n",
    "#upper whisker point\n",
    "data_L3_upper = data_L3_q3 + (1.5 * data_L3_iqr)\n",
    "\n",
    "data_L3_outliers = data_L3[(data_L3 < data_L3_lower) | (data_L3 > data_L3_upper)]\n",
    "data_L3_outliers"
   ]
  },
  {
   "cell_type": "code",
   "execution_count": 27,
   "metadata": {},
   "outputs": [
    {
     "data": {
      "text/plain": [
       "<AxesSubplot:ylabel='Height'>"
      ]
     },
     "execution_count": 27,
     "metadata": {},
     "output_type": "execute_result"
    },
    {
     "data": {
      "image/png": "[encoded data removed]",
      "text/plain": [
       "<Figure size 432x288 with 1 Axes>"
      ]
     },
     "metadata": {
      "needs_background": "light"
     },
     "output_type": "display_data"
    }
   ],
   "source": [
    "sns.boxplot(y='Height',data=data)"
   ]
  },
  {
   "cell_type": "code",
   "execution_count": 28,
   "metadata": {},
   "outputs": [
    {
     "data": {
      "text/plain": [
       "<AxesSubplot:ylabel='Width'>"
      ]
     },
     "execution_count": 28,
     "metadata": {},
     "output_type": "execute_result"
    },
    {
     "data": {
      "image/png": "[encoded data removed]",
      "text/plain": [
       "<Figure size 432x288 with 1 Axes>"
      ]
     },
     "metadata": {
      "needs_background": "light"
     },
     "output_type": "display_data"
    }
   ],
   "source": [
    "sns.boxplot(y='Width',data=data)"
   ]
  },
  {
   "cell_type": "code",
   "execution_count": 39,
   "metadata": {},
   "outputs": [
    {
     "data": {
      "text/html": [
       "<div>\n",
       "<style scoped>\n",
       "    .dataframe tbody tr th:only-of-type {\n",
       "        vertical-align: middle;\n",
       "    }\n",
       "\n",
       "    .dataframe tbody tr th {\n",
       "        vertical-align: top;\n",
       "    }\n",
       "\n",
       "    .dataframe thead th {\n",
       "        text-align: right;\n",
       "    }\n",
       "</style>\n",
       "<table border=\"1\" class=\"dataframe\">\n",
       "  <thead>\n",
       "    <tr style=\"text-align: right;\">\n",
       "      <th></th>\n",
       "      <th>Species</th>\n",
       "      <th>Weight</th>\n",
       "      <th>Length1</th>\n",
       "      <th>Length2</th>\n",
       "      <th>Length3</th>\n",
       "      <th>Height</th>\n",
       "      <th>Width</th>\n",
       "    </tr>\n",
       "  </thead>\n",
       "  <tbody>\n",
       "    <tr>\n",
       "      <th>142</th>\n",
       "      <td>Pike</td>\n",
       "      <td>1600.0</td>\n",
       "      <td>56.0</td>\n",
       "      <td>60.0</td>\n",
       "      <td>64.0</td>\n",
       "      <td>9.600</td>\n",
       "      <td>6.144</td>\n",
       "    </tr>\n",
       "    <tr>\n",
       "      <th>143</th>\n",
       "      <td>Pike</td>\n",
       "      <td>1550.0</td>\n",
       "      <td>56.0</td>\n",
       "      <td>60.0</td>\n",
       "      <td>64.0</td>\n",
       "      <td>9.600</td>\n",
       "      <td>6.144</td>\n",
       "    </tr>\n",
       "    <tr>\n",
       "      <th>144</th>\n",
       "      <td>Pike</td>\n",
       "      <td>1650.0</td>\n",
       "      <td>59.0</td>\n",
       "      <td>63.4</td>\n",
       "      <td>68.0</td>\n",
       "      <td>10.812</td>\n",
       "      <td>7.480</td>\n",
       "    </tr>\n",
       "  </tbody>\n",
       "</table>\n",
       "</div>"
      ],
      "text/plain": [
       "    Species  Weight  Length1  Length2  Length3  Height  Width\n",
       "142    Pike  1600.0     56.0     60.0     64.0   9.600  6.144\n",
       "143    Pike  1550.0     56.0     60.0     64.0   9.600  6.144\n",
       "144    Pike  1650.0     59.0     63.4     68.0  10.812  7.480"
      ]
     },
     "execution_count": 39,
     "metadata": {},
     "output_type": "execute_result"
    }
   ],
   "source": [
    "data[142:145]"
   ]
  },
  {
   "cell_type": "code",
   "execution_count": 40,
   "metadata": {},
   "outputs": [],
   "source": [
    "from sklearn.preprocessing import LabelEncoder"
   ]
  },
  {
   "cell_type": "code",
   "execution_count": 41,
   "metadata": {},
   "outputs": [],
   "source": [
    "Lb=LabelEncoder()"
   ]
  },
  {
   "cell_type": "code",
   "execution_count": 43,
   "metadata": {},
   "outputs": [],
   "source": [
    "data['Species']=Lb.fit_transform(data['Species'])"
   ]
  },
  {
   "cell_type": "code",
   "execution_count": 44,
   "metadata": {},
   "outputs": [
    {
     "data": {
      "text/plain": [
       "0      0\n",
       "1      0\n",
       "2      0\n",
       "3      0\n",
       "4      0\n",
       "      ..\n",
       "154    5\n",
       "155    5\n",
       "156    5\n",
       "157    5\n",
       "158    5\n",
       "Name: Species, Length: 159, dtype: int32"
      ]
     },
     "execution_count": 44,
     "metadata": {},
     "output_type": "execute_result"
    }
   ],
   "source": [
    "data['Species']"
   ]
  },
  {
   "cell_type": "code",
   "execution_count": 45,
   "metadata": {},
   "outputs": [
    {
     "data": {
      "text/html": [
       "<div>\n",
       "<style scoped>\n",
       "    .dataframe tbody tr th:only-of-type {\n",
       "        vertical-align: middle;\n",
       "    }\n",
       "\n",
       "    .dataframe tbody tr th {\n",
       "        vertical-align: top;\n",
       "    }\n",
       "\n",
       "    .dataframe thead th {\n",
       "        text-align: right;\n",
       "    }\n",
       "</style>\n",
       "<table border=\"1\" class=\"dataframe\">\n",
       "  <thead>\n",
       "    <tr style=\"text-align: right;\">\n",
       "      <th></th>\n",
       "      <th>Species</th>\n",
       "      <th>Weight</th>\n",
       "      <th>Length1</th>\n",
       "      <th>Length2</th>\n",
       "      <th>Length3</th>\n",
       "      <th>Height</th>\n",
       "      <th>Width</th>\n",
       "    </tr>\n",
       "  </thead>\n",
       "  <tbody>\n",
       "    <tr>\n",
       "      <th>count</th>\n",
       "      <td>159.000000</td>\n",
       "      <td>159.000000</td>\n",
       "      <td>159.000000</td>\n",
       "      <td>159.000000</td>\n",
       "      <td>159.000000</td>\n",
       "      <td>159.000000</td>\n",
       "      <td>159.000000</td>\n",
       "    </tr>\n",
       "    <tr>\n",
       "      <th>mean</th>\n",
       "      <td>2.264151</td>\n",
       "      <td>398.326415</td>\n",
       "      <td>26.247170</td>\n",
       "      <td>28.415723</td>\n",
       "      <td>31.227044</td>\n",
       "      <td>8.970994</td>\n",
       "      <td>4.417486</td>\n",
       "    </tr>\n",
       "    <tr>\n",
       "      <th>std</th>\n",
       "      <td>1.704249</td>\n",
       "      <td>357.978317</td>\n",
       "      <td>9.996441</td>\n",
       "      <td>10.716328</td>\n",
       "      <td>11.610246</td>\n",
       "      <td>4.286208</td>\n",
       "      <td>1.685804</td>\n",
       "    </tr>\n",
       "    <tr>\n",
       "      <th>min</th>\n",
       "      <td>0.000000</td>\n",
       "      <td>0.000000</td>\n",
       "      <td>7.500000</td>\n",
       "      <td>8.400000</td>\n",
       "      <td>8.800000</td>\n",
       "      <td>1.728400</td>\n",
       "      <td>1.047600</td>\n",
       "    </tr>\n",
       "    <tr>\n",
       "      <th>25%</th>\n",
       "      <td>1.000000</td>\n",
       "      <td>120.000000</td>\n",
       "      <td>19.050000</td>\n",
       "      <td>21.000000</td>\n",
       "      <td>23.150000</td>\n",
       "      <td>5.944800</td>\n",
       "      <td>3.385650</td>\n",
       "    </tr>\n",
       "    <tr>\n",
       "      <th>50%</th>\n",
       "      <td>2.000000</td>\n",
       "      <td>273.000000</td>\n",
       "      <td>25.200000</td>\n",
       "      <td>27.300000</td>\n",
       "      <td>29.400000</td>\n",
       "      <td>7.786000</td>\n",
       "      <td>4.248500</td>\n",
       "    </tr>\n",
       "    <tr>\n",
       "      <th>75%</th>\n",
       "      <td>3.500000</td>\n",
       "      <td>650.000000</td>\n",
       "      <td>32.700000</td>\n",
       "      <td>35.500000</td>\n",
       "      <td>39.650000</td>\n",
       "      <td>12.365900</td>\n",
       "      <td>5.584500</td>\n",
       "    </tr>\n",
       "    <tr>\n",
       "      <th>max</th>\n",
       "      <td>6.000000</td>\n",
       "      <td>1650.000000</td>\n",
       "      <td>59.000000</td>\n",
       "      <td>63.400000</td>\n",
       "      <td>68.000000</td>\n",
       "      <td>18.957000</td>\n",
       "      <td>8.142000</td>\n",
       "    </tr>\n",
       "  </tbody>\n",
       "</table>\n",
       "</div>"
      ],
      "text/plain": [
       "          Species       Weight     Length1     Length2     Length3  \\\n",
       "count  159.000000   159.000000  159.000000  159.000000  159.000000   \n",
       "mean     2.264151   398.326415   26.247170   28.415723   31.227044   \n",
       "std      1.704249   357.978317    9.996441   10.716328   11.610246   \n",
       "min      0.000000     0.000000    7.500000    8.400000    8.800000   \n",
       "25%      1.000000   120.000000   19.050000   21.000000   23.150000   \n",
       "50%      2.000000   273.000000   25.200000   27.300000   29.400000   \n",
       "75%      3.500000   650.000000   32.700000   35.500000   39.650000   \n",
       "max      6.000000  1650.000000   59.000000   63.400000   68.000000   \n",
       "\n",
       "           Height       Width  \n",
       "count  159.000000  159.000000  \n",
       "mean     8.970994    4.417486  \n",
       "std      4.286208    1.685804  \n",
       "min      1.728400    1.047600  \n",
       "25%      5.944800    3.385650  \n",
       "50%      7.786000    4.248500  \n",
       "75%     12.365900    5.584500  \n",
       "max     18.957000    8.142000  "
      ]
     },
     "execution_count": 45,
     "metadata": {},
     "output_type": "execute_result"
    }
   ],
   "source": [
    "data.describe()"
   ]
  },
  {
   "cell_type": "code",
   "execution_count": 46,
   "metadata": {},
   "outputs": [
    {
     "data": {
      "text/html": [
       "<div>\n",
       "<style scoped>\n",
       "    .dataframe tbody tr th:only-of-type {\n",
       "        vertical-align: middle;\n",
       "    }\n",
       "\n",
       "    .dataframe tbody tr th {\n",
       "        vertical-align: top;\n",
       "    }\n",
       "\n",
       "    .dataframe thead th {\n",
       "        text-align: right;\n",
       "    }\n",
       "</style>\n",
       "<table border=\"1\" class=\"dataframe\">\n",
       "  <thead>\n",
       "    <tr style=\"text-align: right;\">\n",
       "      <th></th>\n",
       "      <th>Species</th>\n",
       "      <th>Weight</th>\n",
       "      <th>Length1</th>\n",
       "      <th>Length2</th>\n",
       "      <th>Length3</th>\n",
       "      <th>Height</th>\n",
       "      <th>Width</th>\n",
       "    </tr>\n",
       "  </thead>\n",
       "  <tbody>\n",
       "    <tr>\n",
       "      <th>142</th>\n",
       "      <td>3</td>\n",
       "      <td>1600.0</td>\n",
       "      <td>56.0</td>\n",
       "      <td>60.0</td>\n",
       "      <td>64.0</td>\n",
       "      <td>9.600</td>\n",
       "      <td>6.144</td>\n",
       "    </tr>\n",
       "    <tr>\n",
       "      <th>143</th>\n",
       "      <td>3</td>\n",
       "      <td>1550.0</td>\n",
       "      <td>56.0</td>\n",
       "      <td>60.0</td>\n",
       "      <td>64.0</td>\n",
       "      <td>9.600</td>\n",
       "      <td>6.144</td>\n",
       "    </tr>\n",
       "    <tr>\n",
       "      <th>144</th>\n",
       "      <td>3</td>\n",
       "      <td>1650.0</td>\n",
       "      <td>59.0</td>\n",
       "      <td>63.4</td>\n",
       "      <td>68.0</td>\n",
       "      <td>10.812</td>\n",
       "      <td>7.480</td>\n",
       "    </tr>\n",
       "  </tbody>\n",
       "</table>\n",
       "</div>"
      ],
      "text/plain": [
       "     Species  Weight  Length1  Length2  Length3  Height  Width\n",
       "142        3  1600.0     56.0     60.0     64.0   9.600  6.144\n",
       "143        3  1550.0     56.0     60.0     64.0   9.600  6.144\n",
       "144        3  1650.0     59.0     63.4     68.0  10.812  7.480"
      ]
     },
     "execution_count": 46,
     "metadata": {},
     "output_type": "execute_result"
    }
   ],
   "source": [
    "data[142:145]"
   ]
  },
  {
   "cell_type": "code",
   "execution_count": 47,
   "metadata": {},
   "outputs": [],
   "source": [
    "data.drop([142,143,144], inplace=True)"
   ]
  },
  {
   "cell_type": "code",
   "execution_count": 48,
   "metadata": {},
   "outputs": [
    {
     "data": {
      "text/html": [
       "<div>\n",
       "<style scoped>\n",
       "    .dataframe tbody tr th:only-of-type {\n",
       "        vertical-align: middle;\n",
       "    }\n",
       "\n",
       "    .dataframe tbody tr th {\n",
       "        vertical-align: top;\n",
       "    }\n",
       "\n",
       "    .dataframe thead th {\n",
       "        text-align: right;\n",
       "    }\n",
       "</style>\n",
       "<table border=\"1\" class=\"dataframe\">\n",
       "  <thead>\n",
       "    <tr style=\"text-align: right;\">\n",
       "      <th></th>\n",
       "      <th>Species</th>\n",
       "      <th>Weight</th>\n",
       "      <th>Length1</th>\n",
       "      <th>Length2</th>\n",
       "      <th>Length3</th>\n",
       "      <th>Height</th>\n",
       "      <th>Width</th>\n",
       "    </tr>\n",
       "  </thead>\n",
       "  <tbody>\n",
       "    <tr>\n",
       "      <th>0</th>\n",
       "      <td>0</td>\n",
       "      <td>242.0</td>\n",
       "      <td>23.2</td>\n",
       "      <td>25.4</td>\n",
       "      <td>30.0</td>\n",
       "      <td>11.5200</td>\n",
       "      <td>4.0200</td>\n",
       "    </tr>\n",
       "    <tr>\n",
       "      <th>1</th>\n",
       "      <td>0</td>\n",
       "      <td>290.0</td>\n",
       "      <td>24.0</td>\n",
       "      <td>26.3</td>\n",
       "      <td>31.2</td>\n",
       "      <td>12.4800</td>\n",
       "      <td>4.3056</td>\n",
       "    </tr>\n",
       "    <tr>\n",
       "      <th>2</th>\n",
       "      <td>0</td>\n",
       "      <td>340.0</td>\n",
       "      <td>23.9</td>\n",
       "      <td>26.5</td>\n",
       "      <td>31.1</td>\n",
       "      <td>12.3778</td>\n",
       "      <td>4.6961</td>\n",
       "    </tr>\n",
       "    <tr>\n",
       "      <th>3</th>\n",
       "      <td>0</td>\n",
       "      <td>363.0</td>\n",
       "      <td>26.3</td>\n",
       "      <td>29.0</td>\n",
       "      <td>33.5</td>\n",
       "      <td>12.7300</td>\n",
       "      <td>4.4555</td>\n",
       "    </tr>\n",
       "    <tr>\n",
       "      <th>4</th>\n",
       "      <td>0</td>\n",
       "      <td>430.0</td>\n",
       "      <td>26.5</td>\n",
       "      <td>29.0</td>\n",
       "      <td>34.0</td>\n",
       "      <td>12.4440</td>\n",
       "      <td>5.1340</td>\n",
       "    </tr>\n",
       "  </tbody>\n",
       "</table>\n",
       "</div>"
      ],
      "text/plain": [
       "   Species  Weight  Length1  Length2  Length3   Height   Width\n",
       "0        0   242.0     23.2     25.4     30.0  11.5200  4.0200\n",
       "1        0   290.0     24.0     26.3     31.2  12.4800  4.3056\n",
       "2        0   340.0     23.9     26.5     31.1  12.3778  4.6961\n",
       "3        0   363.0     26.3     29.0     33.5  12.7300  4.4555\n",
       "4        0   430.0     26.5     29.0     34.0  12.4440  5.1340"
      ]
     },
     "execution_count": 48,
     "metadata": {},
     "output_type": "execute_result"
    }
   ],
   "source": [
    "data.head()"
   ]
  },
  {
   "cell_type": "code",
   "execution_count": 49,
   "metadata": {},
   "outputs": [
    {
     "data": {
      "text/plain": [
       "300.0     6\n",
       "1000.0    5\n",
       "500.0     5\n",
       "120.0     5\n",
       "700.0     5\n",
       "         ..\n",
       "320.0     1\n",
       "514.0     1\n",
       "556.0     1\n",
       "840.0     1\n",
       "242.0     1\n",
       "Name: Weight, Length: 98, dtype: int64"
      ]
     },
     "execution_count": 49,
     "metadata": {},
     "output_type": "execute_result"
    }
   ],
   "source": [
    "data['Weight'].value_counts()"
   ]
  },
  {
   "cell_type": "code",
   "execution_count": 50,
   "metadata": {},
   "outputs": [
    {
     "name": "stdout",
     "output_type": "stream",
     "text": [
      "<class 'pandas.core.frame.DataFrame'>\n",
      "Int64Index: 156 entries, 0 to 158\n",
      "Data columns (total 7 columns):\n",
      " #   Column   Non-Null Count  Dtype  \n",
      "---  ------   --------------  -----  \n",
      " 0   Species  156 non-null    int32  \n",
      " 1   Weight   156 non-null    float64\n",
      " 2   Length1  156 non-null    float64\n",
      " 3   Length2  156 non-null    float64\n",
      " 4   Length3  156 non-null    float64\n",
      " 5   Height   156 non-null    float64\n",
      " 6   Width    156 non-null    float64\n",
      "dtypes: float64(6), int32(1)\n",
      "memory usage: 9.1 KB\n"
     ]
    }
   ],
   "source": [
    "data.info()"
   ]
  },
  {
   "cell_type": "code",
   "execution_count": 51,
   "metadata": {},
   "outputs": [
    {
     "data": {
      "text/html": [
       "<style  type=\"text/css\" >\n",
       "#T_e18eab1d_7b7c_11eb_a53e_844bf531462erow0_col0,#T_e18eab1d_7b7c_11eb_a53e_844bf531462erow1_col1,#T_e18eab1d_7b7c_11eb_a53e_844bf531462erow2_col2,#T_e18eab1d_7b7c_11eb_a53e_844bf531462erow2_col3,#T_e18eab1d_7b7c_11eb_a53e_844bf531462erow3_col2,#T_e18eab1d_7b7c_11eb_a53e_844bf531462erow3_col3,#T_e18eab1d_7b7c_11eb_a53e_844bf531462erow4_col4,#T_e18eab1d_7b7c_11eb_a53e_844bf531462erow5_col5,#T_e18eab1d_7b7c_11eb_a53e_844bf531462erow6_col6{\n",
       "            background-color:  #023858;\n",
       "            color:  #f1f1f1;\n",
       "        }#T_e18eab1d_7b7c_11eb_a53e_844bf531462erow0_col1,#T_e18eab1d_7b7c_11eb_a53e_844bf531462erow0_col2,#T_e18eab1d_7b7c_11eb_a53e_844bf531462erow0_col3,#T_e18eab1d_7b7c_11eb_a53e_844bf531462erow0_col4,#T_e18eab1d_7b7c_11eb_a53e_844bf531462erow0_col5,#T_e18eab1d_7b7c_11eb_a53e_844bf531462erow0_col6,#T_e18eab1d_7b7c_11eb_a53e_844bf531462erow5_col0{\n",
       "            background-color:  #fff7fb;\n",
       "            color:  #000000;\n",
       "        }#T_e18eab1d_7b7c_11eb_a53e_844bf531462erow1_col0{\n",
       "            background-color:  #dfddec;\n",
       "            color:  #000000;\n",
       "        }#T_e18eab1d_7b7c_11eb_a53e_844bf531462erow1_col2,#T_e18eab1d_7b7c_11eb_a53e_844bf531462erow2_col6{\n",
       "            background-color:  #034d79;\n",
       "            color:  #f1f1f1;\n",
       "        }#T_e18eab1d_7b7c_11eb_a53e_844bf531462erow1_col3,#T_e18eab1d_7b7c_11eb_a53e_844bf531462erow2_col1,#T_e18eab1d_7b7c_11eb_a53e_844bf531462erow6_col3{\n",
       "            background-color:  #034c78;\n",
       "            color:  #f1f1f1;\n",
       "        }#T_e18eab1d_7b7c_11eb_a53e_844bf531462erow1_col4,#T_e18eab1d_7b7c_11eb_a53e_844bf531462erow4_col1{\n",
       "            background-color:  #034a74;\n",
       "            color:  #f1f1f1;\n",
       "        }#T_e18eab1d_7b7c_11eb_a53e_844bf531462erow1_col5{\n",
       "            background-color:  #045788;\n",
       "            color:  #f1f1f1;\n",
       "        }#T_e18eab1d_7b7c_11eb_a53e_844bf531462erow1_col6{\n",
       "            background-color:  #03466e;\n",
       "            color:  #f1f1f1;\n",
       "        }#T_e18eab1d_7b7c_11eb_a53e_844bf531462erow2_col0{\n",
       "            background-color:  #d7d6e9;\n",
       "            color:  #000000;\n",
       "        }#T_e18eab1d_7b7c_11eb_a53e_844bf531462erow2_col4,#T_e18eab1d_7b7c_11eb_a53e_844bf531462erow3_col4,#T_e18eab1d_7b7c_11eb_a53e_844bf531462erow4_col2,#T_e18eab1d_7b7c_11eb_a53e_844bf531462erow4_col3{\n",
       "            background-color:  #02395a;\n",
       "            color:  #f1f1f1;\n",
       "        }#T_e18eab1d_7b7c_11eb_a53e_844bf531462erow2_col5{\n",
       "            background-color:  #05659f;\n",
       "            color:  #f1f1f1;\n",
       "        }#T_e18eab1d_7b7c_11eb_a53e_844bf531462erow3_col0{\n",
       "            background-color:  #d9d8ea;\n",
       "            color:  #000000;\n",
       "        }#T_e18eab1d_7b7c_11eb_a53e_844bf531462erow3_col1,#T_e18eab1d_7b7c_11eb_a53e_844bf531462erow3_col6,#T_e18eab1d_7b7c_11eb_a53e_844bf531462erow4_col6,#T_e18eab1d_7b7c_11eb_a53e_844bf531462erow6_col4{\n",
       "            background-color:  #034b76;\n",
       "            color:  #f1f1f1;\n",
       "        }#T_e18eab1d_7b7c_11eb_a53e_844bf531462erow3_col5{\n",
       "            background-color:  #04649d;\n",
       "            color:  #f1f1f1;\n",
       "        }#T_e18eab1d_7b7c_11eb_a53e_844bf531462erow4_col0{\n",
       "            background-color:  #e0dded;\n",
       "            color:  #000000;\n",
       "        }#T_e18eab1d_7b7c_11eb_a53e_844bf531462erow4_col5,#T_e18eab1d_7b7c_11eb_a53e_844bf531462erow5_col1,#T_e18eab1d_7b7c_11eb_a53e_844bf531462erow5_col6{\n",
       "            background-color:  #045d92;\n",
       "            color:  #f1f1f1;\n",
       "        }#T_e18eab1d_7b7c_11eb_a53e_844bf531462erow5_col2{\n",
       "            background-color:  #056fae;\n",
       "            color:  #f1f1f1;\n",
       "        }#T_e18eab1d_7b7c_11eb_a53e_844bf531462erow5_col3{\n",
       "            background-color:  #056caa;\n",
       "            color:  #f1f1f1;\n",
       "        }#T_e18eab1d_7b7c_11eb_a53e_844bf531462erow5_col4{\n",
       "            background-color:  #04629a;\n",
       "            color:  #f1f1f1;\n",
       "        }#T_e18eab1d_7b7c_11eb_a53e_844bf531462erow6_col0{\n",
       "            background-color:  #e3e0ee;\n",
       "            color:  #000000;\n",
       "        }#T_e18eab1d_7b7c_11eb_a53e_844bf531462erow6_col1{\n",
       "            background-color:  #03476f;\n",
       "            color:  #f1f1f1;\n",
       "        }#T_e18eab1d_7b7c_11eb_a53e_844bf531462erow6_col2{\n",
       "            background-color:  #034e7b;\n",
       "            color:  #f1f1f1;\n",
       "        }#T_e18eab1d_7b7c_11eb_a53e_844bf531462erow6_col5{\n",
       "            background-color:  #04588a;\n",
       "            color:  #f1f1f1;\n",
       "        }</style><table id=\"T_e18eab1d_7b7c_11eb_a53e_844bf531462e\" ><thead>    <tr>        <th class=\"blank level0\" ></th>        <th class=\"col_heading level0 col0\" >Species</th>        <th class=\"col_heading level0 col1\" >Weight</th>        <th class=\"col_heading level0 col2\" >Length1</th>        <th class=\"col_heading level0 col3\" >Length2</th>        <th class=\"col_heading level0 col4\" >Length3</th>        <th class=\"col_heading level0 col5\" >Height</th>        <th class=\"col_heading level0 col6\" >Width</th>    </tr></thead><tbody>\n",
       "                <tr>\n",
       "                        <th id=\"T_e18eab1d_7b7c_11eb_a53e_844bf531462elevel0_row0\" class=\"row_heading level0 row0\" >Species</th>\n",
       "                        <td id=\"T_e18eab1d_7b7c_11eb_a53e_844bf531462erow0_col0\" class=\"data row0 col0\" >1.000000</td>\n",
       "                        <td id=\"T_e18eab1d_7b7c_11eb_a53e_844bf531462erow0_col1\" class=\"data row0 col1\" >-0.386398</td>\n",
       "                        <td id=\"T_e18eab1d_7b7c_11eb_a53e_844bf531462erow0_col2\" class=\"data row0 col2\" >-0.324187</td>\n",
       "                        <td id=\"T_e18eab1d_7b7c_11eb_a53e_844bf531462erow0_col3\" class=\"data row0 col3\" >-0.342145</td>\n",
       "                        <td id=\"T_e18eab1d_7b7c_11eb_a53e_844bf531462erow0_col4\" class=\"data row0 col4\" >-0.395344</td>\n",
       "                        <td id=\"T_e18eab1d_7b7c_11eb_a53e_844bf531462erow0_col5\" class=\"data row0 col5\" >-0.701987</td>\n",
       "                        <td id=\"T_e18eab1d_7b7c_11eb_a53e_844bf531462erow0_col6\" class=\"data row0 col6\" >-0.416384</td>\n",
       "            </tr>\n",
       "            <tr>\n",
       "                        <th id=\"T_e18eab1d_7b7c_11eb_a53e_844bf531462elevel0_row1\" class=\"row_heading level0 row1\" >Weight</th>\n",
       "                        <td id=\"T_e18eab1d_7b7c_11eb_a53e_844bf531462erow1_col0\" class=\"data row1 col0\" >-0.386398</td>\n",
       "                        <td id=\"T_e18eab1d_7b7c_11eb_a53e_844bf531462erow1_col1\" class=\"data row1 col1\" >1.000000</td>\n",
       "                        <td id=\"T_e18eab1d_7b7c_11eb_a53e_844bf531462erow1_col2\" class=\"data row1 col2\" >0.895743</td>\n",
       "                        <td id=\"T_e18eab1d_7b7c_11eb_a53e_844bf531462erow1_col3\" class=\"data row1 col3\" >0.899759</td>\n",
       "                        <td id=\"T_e18eab1d_7b7c_11eb_a53e_844bf531462erow1_col4\" class=\"data row1 col4\" >0.907292</td>\n",
       "                        <td id=\"T_e18eab1d_7b7c_11eb_a53e_844bf531462erow1_col5\" class=\"data row1 col5\" >0.801871</td>\n",
       "                        <td id=\"T_e18eab1d_7b7c_11eb_a53e_844bf531462erow1_col6\" class=\"data row1 col6\" >0.923432</td>\n",
       "            </tr>\n",
       "            <tr>\n",
       "                        <th id=\"T_e18eab1d_7b7c_11eb_a53e_844bf531462elevel0_row2\" class=\"row_heading level0 row2\" >Length1</th>\n",
       "                        <td id=\"T_e18eab1d_7b7c_11eb_a53e_844bf531462erow2_col0\" class=\"data row2 col0\" >-0.324187</td>\n",
       "                        <td id=\"T_e18eab1d_7b7c_11eb_a53e_844bf531462erow2_col1\" class=\"data row2 col1\" >0.895743</td>\n",
       "                        <td id=\"T_e18eab1d_7b7c_11eb_a53e_844bf531462erow2_col2\" class=\"data row2 col2\" >1.000000</td>\n",
       "                        <td id=\"T_e18eab1d_7b7c_11eb_a53e_844bf531462erow2_col3\" class=\"data row2 col3\" >0.999418</td>\n",
       "                        <td id=\"T_e18eab1d_7b7c_11eb_a53e_844bf531462erow2_col4\" class=\"data row2 col4\" >0.990612</td>\n",
       "                        <td id=\"T_e18eab1d_7b7c_11eb_a53e_844bf531462erow2_col5\" class=\"data row2 col5\" >0.676326</td>\n",
       "                        <td id=\"T_e18eab1d_7b7c_11eb_a53e_844bf531462erow2_col6\" class=\"data row2 col6\" >0.889166</td>\n",
       "            </tr>\n",
       "            <tr>\n",
       "                        <th id=\"T_e18eab1d_7b7c_11eb_a53e_844bf531462elevel0_row3\" class=\"row_heading level0 row3\" >Length2</th>\n",
       "                        <td id=\"T_e18eab1d_7b7c_11eb_a53e_844bf531462erow3_col0\" class=\"data row3 col0\" >-0.342145</td>\n",
       "                        <td id=\"T_e18eab1d_7b7c_11eb_a53e_844bf531462erow3_col1\" class=\"data row3 col1\" >0.899759</td>\n",
       "                        <td id=\"T_e18eab1d_7b7c_11eb_a53e_844bf531462erow3_col2\" class=\"data row3 col2\" >0.999418</td>\n",
       "                        <td id=\"T_e18eab1d_7b7c_11eb_a53e_844bf531462erow3_col3\" class=\"data row3 col3\" >1.000000</td>\n",
       "                        <td id=\"T_e18eab1d_7b7c_11eb_a53e_844bf531462erow3_col4\" class=\"data row3 col4\" >0.993049</td>\n",
       "                        <td id=\"T_e18eab1d_7b7c_11eb_a53e_844bf531462erow3_col5\" class=\"data row3 col5\" >0.691954</td>\n",
       "                        <td id=\"T_e18eab1d_7b7c_11eb_a53e_844bf531462erow3_col6\" class=\"data row3 col6\" >0.895584</td>\n",
       "            </tr>\n",
       "            <tr>\n",
       "                        <th id=\"T_e18eab1d_7b7c_11eb_a53e_844bf531462elevel0_row4\" class=\"row_heading level0 row4\" >Length3</th>\n",
       "                        <td id=\"T_e18eab1d_7b7c_11eb_a53e_844bf531462erow4_col0\" class=\"data row4 col0\" >-0.395344</td>\n",
       "                        <td id=\"T_e18eab1d_7b7c_11eb_a53e_844bf531462erow4_col1\" class=\"data row4 col1\" >0.907292</td>\n",
       "                        <td id=\"T_e18eab1d_7b7c_11eb_a53e_844bf531462erow4_col2\" class=\"data row4 col2\" >0.990612</td>\n",
       "                        <td id=\"T_e18eab1d_7b7c_11eb_a53e_844bf531462erow4_col3\" class=\"data row4 col3\" >0.993049</td>\n",
       "                        <td id=\"T_e18eab1d_7b7c_11eb_a53e_844bf531462erow4_col4\" class=\"data row4 col4\" >1.000000</td>\n",
       "                        <td id=\"T_e18eab1d_7b7c_11eb_a53e_844bf531462erow4_col5\" class=\"data row4 col5\" >0.756019</td>\n",
       "                        <td id=\"T_e18eab1d_7b7c_11eb_a53e_844bf531462erow4_col6\" class=\"data row4 col6\" >0.897053</td>\n",
       "            </tr>\n",
       "            <tr>\n",
       "                        <th id=\"T_e18eab1d_7b7c_11eb_a53e_844bf531462elevel0_row5\" class=\"row_heading level0 row5\" >Height</th>\n",
       "                        <td id=\"T_e18eab1d_7b7c_11eb_a53e_844bf531462erow5_col0\" class=\"data row5 col0\" >-0.701987</td>\n",
       "                        <td id=\"T_e18eab1d_7b7c_11eb_a53e_844bf531462erow5_col1\" class=\"data row5 col1\" >0.801871</td>\n",
       "                        <td id=\"T_e18eab1d_7b7c_11eb_a53e_844bf531462erow5_col2\" class=\"data row5 col2\" >0.676326</td>\n",
       "                        <td id=\"T_e18eab1d_7b7c_11eb_a53e_844bf531462erow5_col3\" class=\"data row5 col3\" >0.691954</td>\n",
       "                        <td id=\"T_e18eab1d_7b7c_11eb_a53e_844bf531462erow5_col4\" class=\"data row5 col4\" >0.756019</td>\n",
       "                        <td id=\"T_e18eab1d_7b7c_11eb_a53e_844bf531462erow5_col5\" class=\"data row5 col5\" >1.000000</td>\n",
       "                        <td id=\"T_e18eab1d_7b7c_11eb_a53e_844bf531462erow5_col6\" class=\"data row5 col6\" >0.800542</td>\n",
       "            </tr>\n",
       "            <tr>\n",
       "                        <th id=\"T_e18eab1d_7b7c_11eb_a53e_844bf531462elevel0_row6\" class=\"row_heading level0 row6\" >Width</th>\n",
       "                        <td id=\"T_e18eab1d_7b7c_11eb_a53e_844bf531462erow6_col0\" class=\"data row6 col0\" >-0.416384</td>\n",
       "                        <td id=\"T_e18eab1d_7b7c_11eb_a53e_844bf531462erow6_col1\" class=\"data row6 col1\" >0.923432</td>\n",
       "                        <td id=\"T_e18eab1d_7b7c_11eb_a53e_844bf531462erow6_col2\" class=\"data row6 col2\" >0.889166</td>\n",
       "                        <td id=\"T_e18eab1d_7b7c_11eb_a53e_844bf531462erow6_col3\" class=\"data row6 col3\" >0.895584</td>\n",
       "                        <td id=\"T_e18eab1d_7b7c_11eb_a53e_844bf531462erow6_col4\" class=\"data row6 col4\" >0.897053</td>\n",
       "                        <td id=\"T_e18eab1d_7b7c_11eb_a53e_844bf531462erow6_col5\" class=\"data row6 col5\" >0.800542</td>\n",
       "                        <td id=\"T_e18eab1d_7b7c_11eb_a53e_844bf531462erow6_col6\" class=\"data row6 col6\" >1.000000</td>\n",
       "            </tr>\n",
       "    </tbody></table>"
      ],
      "text/plain": [
       "<pandas.io.formats.style.Styler at 0x1c330eb35e0>"
      ]
     },
     "execution_count": 51,
     "metadata": {},
     "output_type": "execute_result"
    }
   ],
   "source": [
    "d_corr = data.corr()\n",
    "d_corr.style.background_gradient()"
   ]
  },
  {
   "cell_type": "code",
   "execution_count": 52,
   "metadata": {},
   "outputs": [
    {
     "data": {
      "image/png": "[encoded data removed]",
      "text/plain": [
       "<Figure size 1080x720 with 2 Axes>"
      ]
     },
     "metadata": {
      "needs_background": "light"
     },
     "output_type": "display_data"
    }
   ],
   "source": [
    "plt.figure(figsize=(15,10))\n",
    "sns.heatmap(data.corr(), cmap='viridis', cbar=True , annot=True, yticklabels =True)\n",
    "plt.show()"
   ]
  },
  {
   "cell_type": "code",
   "execution_count": 54,
   "metadata": {},
   "outputs": [],
   "source": [
    "data.drop(['Length2', 'Length3'], axis=1, inplace=True)"
   ]
  },
  {
   "cell_type": "code",
   "execution_count": 56,
   "metadata": {},
   "outputs": [
    {
     "data": {
      "text/plain": [
       "(156, 5)"
      ]
     },
     "execution_count": 56,
     "metadata": {},
     "output_type": "execute_result"
    }
   ],
   "source": [
    "data.shape"
   ]
  },
  {
   "cell_type": "code",
   "execution_count": 57,
   "metadata": {},
   "outputs": [
    {
     "data": {
      "text/html": [
       "<div>\n",
       "<style scoped>\n",
       "    .dataframe tbody tr th:only-of-type {\n",
       "        vertical-align: middle;\n",
       "    }\n",
       "\n",
       "    .dataframe tbody tr th {\n",
       "        vertical-align: top;\n",
       "    }\n",
       "\n",
       "    .dataframe thead th {\n",
       "        text-align: right;\n",
       "    }\n",
       "</style>\n",
       "<table border=\"1\" class=\"dataframe\">\n",
       "  <thead>\n",
       "    <tr style=\"text-align: right;\">\n",
       "      <th></th>\n",
       "      <th>Species</th>\n",
       "      <th>Weight</th>\n",
       "      <th>Length1</th>\n",
       "      <th>Height</th>\n",
       "      <th>Width</th>\n",
       "    </tr>\n",
       "  </thead>\n",
       "  <tbody>\n",
       "    <tr>\n",
       "      <th>0</th>\n",
       "      <td>0</td>\n",
       "      <td>242.0</td>\n",
       "      <td>23.2</td>\n",
       "      <td>11.5200</td>\n",
       "      <td>4.0200</td>\n",
       "    </tr>\n",
       "    <tr>\n",
       "      <th>1</th>\n",
       "      <td>0</td>\n",
       "      <td>290.0</td>\n",
       "      <td>24.0</td>\n",
       "      <td>12.4800</td>\n",
       "      <td>4.3056</td>\n",
       "    </tr>\n",
       "    <tr>\n",
       "      <th>2</th>\n",
       "      <td>0</td>\n",
       "      <td>340.0</td>\n",
       "      <td>23.9</td>\n",
       "      <td>12.3778</td>\n",
       "      <td>4.6961</td>\n",
       "    </tr>\n",
       "    <tr>\n",
       "      <th>3</th>\n",
       "      <td>0</td>\n",
       "      <td>363.0</td>\n",
       "      <td>26.3</td>\n",
       "      <td>12.7300</td>\n",
       "      <td>4.4555</td>\n",
       "    </tr>\n",
       "    <tr>\n",
       "      <th>4</th>\n",
       "      <td>0</td>\n",
       "      <td>430.0</td>\n",
       "      <td>26.5</td>\n",
       "      <td>12.4440</td>\n",
       "      <td>5.1340</td>\n",
       "    </tr>\n",
       "  </tbody>\n",
       "</table>\n",
       "</div>"
      ],
      "text/plain": [
       "   Species  Weight  Length1   Height   Width\n",
       "0        0   242.0     23.2  11.5200  4.0200\n",
       "1        0   290.0     24.0  12.4800  4.3056\n",
       "2        0   340.0     23.9  12.3778  4.6961\n",
       "3        0   363.0     26.3  12.7300  4.4555\n",
       "4        0   430.0     26.5  12.4440  5.1340"
      ]
     },
     "execution_count": 57,
     "metadata": {},
     "output_type": "execute_result"
    }
   ],
   "source": [
    "data.head()"
   ]
  },
  {
   "cell_type": "code",
   "execution_count": 58,
   "metadata": {},
   "outputs": [],
   "source": [
    "data1=data[['Weight','Species','Length1','Height','Width']]"
   ]
  },
  {
   "cell_type": "code",
   "execution_count": 59,
   "metadata": {},
   "outputs": [
    {
     "data": {
      "text/html": [
       "<div>\n",
       "<style scoped>\n",
       "    .dataframe tbody tr th:only-of-type {\n",
       "        vertical-align: middle;\n",
       "    }\n",
       "\n",
       "    .dataframe tbody tr th {\n",
       "        vertical-align: top;\n",
       "    }\n",
       "\n",
       "    .dataframe thead th {\n",
       "        text-align: right;\n",
       "    }\n",
       "</style>\n",
       "<table border=\"1\" class=\"dataframe\">\n",
       "  <thead>\n",
       "    <tr style=\"text-align: right;\">\n",
       "      <th></th>\n",
       "      <th>Weight</th>\n",
       "      <th>Species</th>\n",
       "      <th>Length1</th>\n",
       "      <th>Height</th>\n",
       "      <th>Width</th>\n",
       "    </tr>\n",
       "  </thead>\n",
       "  <tbody>\n",
       "    <tr>\n",
       "      <th>0</th>\n",
       "      <td>242.0</td>\n",
       "      <td>0</td>\n",
       "      <td>23.2</td>\n",
       "      <td>11.5200</td>\n",
       "      <td>4.0200</td>\n",
       "    </tr>\n",
       "    <tr>\n",
       "      <th>1</th>\n",
       "      <td>290.0</td>\n",
       "      <td>0</td>\n",
       "      <td>24.0</td>\n",
       "      <td>12.4800</td>\n",
       "      <td>4.3056</td>\n",
       "    </tr>\n",
       "    <tr>\n",
       "      <th>2</th>\n",
       "      <td>340.0</td>\n",
       "      <td>0</td>\n",
       "      <td>23.9</td>\n",
       "      <td>12.3778</td>\n",
       "      <td>4.6961</td>\n",
       "    </tr>\n",
       "    <tr>\n",
       "      <th>3</th>\n",
       "      <td>363.0</td>\n",
       "      <td>0</td>\n",
       "      <td>26.3</td>\n",
       "      <td>12.7300</td>\n",
       "      <td>4.4555</td>\n",
       "    </tr>\n",
       "    <tr>\n",
       "      <th>4</th>\n",
       "      <td>430.0</td>\n",
       "      <td>0</td>\n",
       "      <td>26.5</td>\n",
       "      <td>12.4440</td>\n",
       "      <td>5.1340</td>\n",
       "    </tr>\n",
       "    <tr>\n",
       "      <th>...</th>\n",
       "      <td>...</td>\n",
       "      <td>...</td>\n",
       "      <td>...</td>\n",
       "      <td>...</td>\n",
       "      <td>...</td>\n",
       "    </tr>\n",
       "    <tr>\n",
       "      <th>154</th>\n",
       "      <td>12.2</td>\n",
       "      <td>5</td>\n",
       "      <td>11.5</td>\n",
       "      <td>2.0904</td>\n",
       "      <td>1.3936</td>\n",
       "    </tr>\n",
       "    <tr>\n",
       "      <th>155</th>\n",
       "      <td>13.4</td>\n",
       "      <td>5</td>\n",
       "      <td>11.7</td>\n",
       "      <td>2.4300</td>\n",
       "      <td>1.2690</td>\n",
       "    </tr>\n",
       "    <tr>\n",
       "      <th>156</th>\n",
       "      <td>12.2</td>\n",
       "      <td>5</td>\n",
       "      <td>12.1</td>\n",
       "      <td>2.2770</td>\n",
       "      <td>1.2558</td>\n",
       "    </tr>\n",
       "    <tr>\n",
       "      <th>157</th>\n",
       "      <td>19.7</td>\n",
       "      <td>5</td>\n",
       "      <td>13.2</td>\n",
       "      <td>2.8728</td>\n",
       "      <td>2.0672</td>\n",
       "    </tr>\n",
       "    <tr>\n",
       "      <th>158</th>\n",
       "      <td>19.9</td>\n",
       "      <td>5</td>\n",
       "      <td>13.8</td>\n",
       "      <td>2.9322</td>\n",
       "      <td>1.8792</td>\n",
       "    </tr>\n",
       "  </tbody>\n",
       "</table>\n",
       "<p>156 rows × 5 columns</p>\n",
       "</div>"
      ],
      "text/plain": [
       "     Weight  Species  Length1   Height   Width\n",
       "0     242.0        0     23.2  11.5200  4.0200\n",
       "1     290.0        0     24.0  12.4800  4.3056\n",
       "2     340.0        0     23.9  12.3778  4.6961\n",
       "3     363.0        0     26.3  12.7300  4.4555\n",
       "4     430.0        0     26.5  12.4440  5.1340\n",
       "..      ...      ...      ...      ...     ...\n",
       "154    12.2        5     11.5   2.0904  1.3936\n",
       "155    13.4        5     11.7   2.4300  1.2690\n",
       "156    12.2        5     12.1   2.2770  1.2558\n",
       "157    19.7        5     13.2   2.8728  2.0672\n",
       "158    19.9        5     13.8   2.9322  1.8792\n",
       "\n",
       "[156 rows x 5 columns]"
      ]
     },
     "execution_count": 59,
     "metadata": {},
     "output_type": "execute_result"
    }
   ],
   "source": [
    "data1"
   ]
  },
  {
   "cell_type": "code",
   "execution_count": 72,
   "metadata": {},
   "outputs": [],
   "source": [
    "x1=data1.iloc[:,2:].values"
   ]
  },
  {
   "cell_type": "code",
   "execution_count": 73,
   "metadata": {},
   "outputs": [
    {
     "data": {
      "text/plain": [
       "array([[23.2   , 11.52  ,  4.02  ],\n",
       "       [24.    , 12.48  ,  4.3056],\n",
       "       [23.9   , 12.3778,  4.6961],\n",
       "       [26.3   , 12.73  ,  4.4555],\n",
       "       [26.5   , 12.444 ,  5.134 ],\n",
       "       [26.8   , 13.6024,  4.9274],\n",
       "       [26.8   , 14.1795,  5.2785],\n",
       "       [27.6   , 12.67  ,  4.69  ],\n",
       "       [27.6   , 14.0049,  4.8438],\n",
       "       [28.5   , 14.2266,  4.9594],\n",
       "       [28.4   , 14.2628,  5.1042],\n",
       "       [28.7   , 14.3714,  4.8146],\n",
       "       [29.1   , 13.7592,  4.368 ],\n",
       "       [29.5   , 13.9129,  5.0728],\n",
       "       [29.4   , 14.9544,  5.1708],\n",
       "       [29.4   , 15.438 ,  5.58  ],\n",
       "       [30.4   , 14.8604,  5.2854],\n",
       "       [30.4   , 14.938 ,  5.1975],\n",
       "       [30.9   , 15.633 ,  5.1338],\n",
       "       [31.    , 14.4738,  5.7276],\n",
       "       [31.3   , 15.1285,  5.5695],\n",
       "       [31.4   , 15.9936,  5.3704],\n",
       "       [31.5   , 15.5227,  5.2801],\n",
       "       [31.8   , 15.4686,  6.1306],\n",
       "       [31.9   , 16.2405,  5.589 ],\n",
       "       [31.8   , 16.36  ,  6.0532],\n",
       "       [32.    , 16.3618,  6.09  ],\n",
       "       [32.7   , 16.517 ,  5.8515],\n",
       "       [32.8   , 16.8896,  6.1984],\n",
       "       [33.5   , 18.957 ,  6.603 ],\n",
       "       [35.    , 18.0369,  6.3063],\n",
       "       [35.    , 18.084 ,  6.292 ],\n",
       "       [36.2   , 18.7542,  6.7497],\n",
       "       [37.4   , 18.6354,  6.7473],\n",
       "       [38.    , 17.6235,  6.3705],\n",
       "       [12.9   ,  4.1472,  2.268 ],\n",
       "       [16.5   ,  5.2983,  2.8217],\n",
       "       [17.5   ,  5.5756,  2.9044],\n",
       "       [18.2   ,  5.6166,  3.1746],\n",
       "       [18.6   ,  6.216 ,  3.5742],\n",
       "       [19.    ,  6.4752,  3.3516],\n",
       "       [19.1   ,  6.1677,  3.3957],\n",
       "       [19.4   ,  6.1146,  3.2943],\n",
       "       [20.4   ,  5.8045,  3.7544],\n",
       "       [20.5   ,  6.6339,  3.5478],\n",
       "       [20.5   ,  7.0334,  3.8203],\n",
       "       [21.    ,  6.55  ,  3.325 ],\n",
       "       [21.1   ,  6.4   ,  3.8   ],\n",
       "       [22.    ,  7.5344,  3.8352],\n",
       "       [22.    ,  6.9153,  3.6312],\n",
       "       [22.1   ,  7.3968,  4.1272],\n",
       "       [23.6   ,  7.0866,  3.906 ],\n",
       "       [24.    ,  8.8768,  4.4968],\n",
       "       [25.    ,  8.568 ,  4.7736],\n",
       "       [29.5   ,  9.485 ,  5.355 ],\n",
       "       [23.6   ,  8.3804,  4.2476],\n",
       "       [24.1   ,  8.1454,  4.2485],\n",
       "       [25.6   ,  8.778 ,  4.6816],\n",
       "       [28.5   , 10.744 ,  6.562 ],\n",
       "       [33.7   , 11.7612,  6.5736],\n",
       "       [37.3   , 12.354 ,  6.525 ],\n",
       "       [13.5   ,  6.8475,  2.3265],\n",
       "       [14.3   ,  6.5772,  2.3142],\n",
       "       [16.3   ,  7.4052,  2.673 ],\n",
       "       [17.5   ,  8.3922,  2.9181],\n",
       "       [18.4   ,  8.8928,  3.2928],\n",
       "       [19.    ,  8.5376,  3.2944],\n",
       "       [19.    ,  9.396 ,  3.4104],\n",
       "       [19.8   ,  9.7364,  3.1571],\n",
       "       [21.2   , 10.3458,  3.6636],\n",
       "       [23.    , 11.088 ,  4.144 ],\n",
       "       [24.    , 11.368 ,  4.234 ],\n",
       "       [ 7.5   ,  2.112 ,  1.408 ],\n",
       "       [12.5   ,  3.528 ,  1.9992],\n",
       "       [13.8   ,  3.824 ,  2.432 ],\n",
       "       [15.    ,  4.5924,  2.6316],\n",
       "       [15.7   ,  4.588 ,  2.9415],\n",
       "       [16.2   ,  5.2224,  3.3216],\n",
       "       [16.8   ,  5.1992,  3.1234],\n",
       "       [17.2   ,  5.6358,  3.0502],\n",
       "       [17.8   ,  5.1376,  3.0368],\n",
       "       [18.2   ,  5.082 ,  2.772 ],\n",
       "       [19.    ,  5.6925,  3.555 ],\n",
       "       [19.    ,  5.9175,  3.3075],\n",
       "       [19.    ,  5.6925,  3.6675],\n",
       "       [19.3   ,  6.384 ,  3.534 ],\n",
       "       [20.    ,  6.11  ,  3.4075],\n",
       "       [20.    ,  5.64  ,  3.525 ],\n",
       "       [20.    ,  6.11  ,  3.525 ],\n",
       "       [20.    ,  5.875 ,  3.525 ],\n",
       "       [20.    ,  5.5225,  3.995 ],\n",
       "       [20.5   ,  5.856 ,  3.624 ],\n",
       "       [20.5   ,  6.792 ,  3.624 ],\n",
       "       [20.7   ,  5.9532,  3.63  ],\n",
       "       [21.    ,  5.2185,  3.626 ],\n",
       "       [21.5   ,  6.275 ,  3.725 ],\n",
       "       [22.    ,  7.293 ,  3.723 ],\n",
       "       [22.    ,  6.375 ,  3.825 ],\n",
       "       [22.6   ,  6.7334,  4.1658],\n",
       "       [23.    ,  6.4395,  3.6835],\n",
       "       [23.5   ,  6.561 ,  4.239 ],\n",
       "       [25.    ,  7.168 ,  4.144 ],\n",
       "       [25.2   ,  8.323 ,  5.1373],\n",
       "       [25.4   ,  7.1672,  4.335 ],\n",
       "       [25.4   ,  7.0516,  4.335 ],\n",
       "       [25.4   ,  7.2828,  4.5662],\n",
       "       [25.9   ,  7.8204,  4.2042],\n",
       "       [26.9   ,  7.5852,  4.6354],\n",
       "       [27.8   ,  7.6156,  4.7716],\n",
       "       [30.5   , 10.03  ,  6.018 ],\n",
       "       [32.    , 10.2565,  6.3875],\n",
       "       [32.5   , 11.4884,  7.7957],\n",
       "       [34.    , 10.881 ,  6.864 ],\n",
       "       [34.    , 10.6091,  6.7408],\n",
       "       [34.5   , 10.835 ,  6.2646],\n",
       "       [34.6   , 10.5717,  6.3666],\n",
       "       [36.5   , 11.1366,  7.4934],\n",
       "       [36.5   , 11.1366,  6.003 ],\n",
       "       [36.6   , 12.4313,  7.3514],\n",
       "       [36.9   , 11.9286,  7.1064],\n",
       "       [37.    , 11.73  ,  7.225 ],\n",
       "       [37.    , 12.3808,  7.4624],\n",
       "       [37.1   , 11.135 ,  6.63  ],\n",
       "       [39.    , 12.8002,  6.8684],\n",
       "       [39.8   , 11.9328,  7.2772],\n",
       "       [40.1   , 12.5125,  7.4165],\n",
       "       [40.2   , 12.604 ,  8.142 ],\n",
       "       [41.1   , 12.4888,  7.5958],\n",
       "       [30.    ,  5.568 ,  3.3756],\n",
       "       [31.7   ,  5.7078,  4.158 ],\n",
       "       [32.7   ,  5.9364,  4.3844],\n",
       "       [34.8   ,  6.2884,  4.0198],\n",
       "       [35.5   ,  7.29  ,  4.5765],\n",
       "       [36.    ,  6.396 ,  3.977 ],\n",
       "       [40.    ,  7.28  ,  4.3225],\n",
       "       [40.    ,  6.825 ,  4.459 ],\n",
       "       [40.1   ,  7.786 ,  5.1296],\n",
       "       [42.    ,  6.96  ,  4.896 ],\n",
       "       [43.2   ,  7.792 ,  4.87  ],\n",
       "       [44.8   ,  7.68  ,  5.376 ],\n",
       "       [48.3   ,  8.9262,  6.1712],\n",
       "       [52.    , 10.6863,  6.9849],\n",
       "       [ 9.3   ,  1.7388,  1.0476],\n",
       "       [10.    ,  1.972 ,  1.16  ],\n",
       "       [10.1   ,  1.7284,  1.1484],\n",
       "       [10.4   ,  2.196 ,  1.38  ],\n",
       "       [10.7   ,  2.0832,  1.2772],\n",
       "       [10.8   ,  1.9782,  1.2852],\n",
       "       [11.3   ,  2.2139,  1.2838],\n",
       "       [11.3   ,  2.2139,  1.1659],\n",
       "       [11.4   ,  2.2044,  1.1484],\n",
       "       [11.5   ,  2.0904,  1.3936],\n",
       "       [11.7   ,  2.43  ,  1.269 ],\n",
       "       [12.1   ,  2.277 ,  1.2558],\n",
       "       [13.2   ,  2.8728,  2.0672],\n",
       "       [13.8   ,  2.9322,  1.8792]])"
      ]
     },
     "execution_count": 73,
     "metadata": {},
     "output_type": "execute_result"
    }
   ],
   "source": [
    "x1"
   ]
  },
  {
   "cell_type": "code",
   "execution_count": 74,
   "metadata": {},
   "outputs": [],
   "source": [
    "y1=data1['Weight'].values"
   ]
  },
  {
   "cell_type": "code",
   "execution_count": 75,
   "metadata": {},
   "outputs": [
    {
     "data": {
      "text/plain": [
       "array([ 242. ,  290. ,  340. ,  363. ,  430. ,  450. ,  500. ,  390. ,\n",
       "        450. ,  500. ,  475. ,  500. ,  500. ,  340. ,  600. ,  600. ,\n",
       "        700. ,  700. ,  610. ,  650. ,  575. ,  685. ,  620. ,  680. ,\n",
       "        700. ,  725. ,  720. ,  714. ,  850. , 1000. ,  920. ,  955. ,\n",
       "        925. ,  975. ,  950. ,   40. ,   69. ,   78. ,   87. ,  120. ,\n",
       "          0. ,  110. ,  120. ,  150. ,  145. ,  160. ,  140. ,  160. ,\n",
       "        169. ,  161. ,  200. ,  180. ,  290. ,  272. ,  390. ,  270. ,\n",
       "        270. ,  306. ,  540. ,  800. , 1000. ,   55. ,   60. ,   90. ,\n",
       "        120. ,  150. ,  140. ,  170. ,  145. ,  200. ,  273. ,  300. ,\n",
       "          5.9,   32. ,   40. ,   51.5,   70. ,  100. ,   78. ,   80. ,\n",
       "         85. ,   85. ,  110. ,  115. ,  125. ,  130. ,  120. ,  120. ,\n",
       "        130. ,  135. ,  110. ,  130. ,  150. ,  145. ,  150. ,  170. ,\n",
       "        225. ,  145. ,  188. ,  180. ,  197. ,  218. ,  300. ,  260. ,\n",
       "        265. ,  250. ,  250. ,  300. ,  320. ,  514. ,  556. ,  840. ,\n",
       "        685. ,  700. ,  700. ,  690. ,  900. ,  650. ,  820. ,  850. ,\n",
       "        900. , 1015. ,  820. , 1100. , 1000. , 1100. , 1000. , 1000. ,\n",
       "        200. ,  300. ,  300. ,  300. ,  430. ,  345. ,  456. ,  510. ,\n",
       "        540. ,  500. ,  567. ,  770. ,  950. , 1250. ,    6.7,    7.5,\n",
       "          7. ,    9.7,    9.8,    8.7,   10. ,    9.9,    9.8,   12.2,\n",
       "         13.4,   12.2,   19.7,   19.9])"
      ]
     },
     "execution_count": 75,
     "metadata": {},
     "output_type": "execute_result"
    }
   ],
   "source": [
    "y1"
   ]
  },
  {
   "cell_type": "code",
   "execution_count": 76,
   "metadata": {},
   "outputs": [],
   "source": [
    "from sklearn.model_selection import train_test_split"
   ]
  },
  {
   "cell_type": "code",
   "execution_count": 77,
   "metadata": {},
   "outputs": [],
   "source": [
    "x1_train, x1_test, y1_train, y1_test = train_test_split(x1, y1, test_size=0.33, random_state=42)"
   ]
  },
  {
   "cell_type": "code",
   "execution_count": 78,
   "metadata": {},
   "outputs": [],
   "source": [
    "from sklearn.preprocessing import StandardScaler"
   ]
  },
  {
   "cell_type": "code",
   "execution_count": 79,
   "metadata": {},
   "outputs": [],
   "source": [
    "Sc1=StandardScaler()"
   ]
  },
  {
   "cell_type": "code",
   "execution_count": 80,
   "metadata": {},
   "outputs": [],
   "source": [
    "x1_train_scaled=Sc1.fit_transform(x1_train)"
   ]
  },
  {
   "cell_type": "code",
   "execution_count": 81,
   "metadata": {},
   "outputs": [
    {
     "data": {
      "text/plain": [
       "array([[ 8.68872052e-01,  1.82517921e+00,  8.85682144e-01],\n",
       "       [ 1.29676727e+00,  8.72059577e-01,  1.74214170e+00],\n",
       "       [ 1.28579560e+00,  5.70029572e-01,  9.72190326e-01],\n",
       "       [-6.23275386e-01, -5.89124589e-01, -5.16606922e-01],\n",
       "       [ 1.88628367e-01,  8.75022257e-01,  4.75981678e-01],\n",
       "       [ 1.25288058e+00,  2.34707736e+00,  1.39856432e+00],\n",
       "       [-6.01332042e-01, -5.38665725e-01, -4.37636086e-01],\n",
       "       [ 1.35162563e+00,  5.69656321e-01,  1.33021429e+00],\n",
       "       [-7.00077093e-01,  4.65917679e-02, -5.75363964e-01],\n",
       "       [ 6.16523588e-01,  1.43872451e+00,  5.62432759e-01],\n",
       "       [-1.47906583e+00, -1.51147435e+00, -1.72252527e+00],\n",
       "       [ 3.97090141e-01,  1.29931528e+00,  4.58965547e-01],\n",
       "       [ 7.92070345e-01,  3.64718220e-01,  1.19174409e+00],\n",
       "       [-1.47906583e+00, -1.51147435e+00, -1.78984748e+00],\n",
       "       [-1.73436820e-01,  6.59469832e-01, -1.60124690e-01],\n",
       "       [ 8.46928707e-01,  6.52098125e-01,  1.99584193e+00],\n",
       "       [-7.98822144e-01, -7.01891238e-02, -7.89321824e-01],\n",
       "       [-4.69671974e-01, -4.80368592e-01, -4.29756133e-01],\n",
       "       [-7.22020437e-01, -8.42398688e-01, -8.72746546e-01],\n",
       "       [ 8.79843724e-01,  1.91210003e+00,  1.08376590e+00],\n",
       "       [-6.34247059e-01, -5.17390421e-01, -5.41788511e-01],\n",
       "       [ 6.79399710e-02, -3.28992003e-01,  1.51761574e-01],\n",
       "       [ 7.70127001e-01,  1.78855396e+00,  1.00085508e+00],\n",
       "       [ 7.70127001e-01,  1.58060653e+00,  1.04505134e+00],\n",
       "       [ 6.27495260e-01,  3.11879882e-01,  9.80755493e-01],\n",
       "       [-6.78133748e-01, -5.77857075e-01, -4.14681440e-01],\n",
       "       [-6.34247059e-01, -6.99980121e-01, -3.61406104e-01],\n",
       "       [-1.61072590e+00, -1.62473268e+00, -1.79984017e+00],\n",
       "       [-1.45712248e+00, -1.54028466e+00, -1.65982825e+00],\n",
       "       [-1.69849928e+00, -1.62230655e+00, -1.85739809e+00],\n",
       "       [-4.03841940e-01, -5.34933216e-01, -2.85747133e-01],\n",
       "       [ 1.01150379e+00,  5.10402733e-01,  1.46383089e+00],\n",
       "       [-1.23768904e+00, -4.30539590e-01, -1.12713199e+00],\n",
       "       [-1.34740576e+00, -1.20491868e+00, -1.31402393e+00],\n",
       "       [ 1.38454065e+00,  2.31936347e+00,  1.39719389e+00],\n",
       "       [-1.62169757e+00, -1.56790523e+00, -1.79321644e+00],\n",
       "       [-1.57781088e+00, -1.51565009e+00, -1.66759400e+00],\n",
       "       [-1.14991566e+00, -4.93595673e-01, -1.13415543e+00],\n",
       "       [-1.27060405e+00, -1.35776494e+00, -1.27519517e+00],\n",
       "       [-3.59955250e-01, -5.64093447e-01, -3.28572966e-01],\n",
       "       [ 2.40532817e-02, -2.91781754e-02,  2.70189277e-01],\n",
       "       [ 2.21543384e-01,  1.14525595e+00,  3.58010784e-01],\n",
       "       [ 3.31260107e-01, -2.51355805e-01,  2.69047254e-01],\n",
       "       [ 1.69174748e+00,  9.12347352e-01,  2.19358307e+00],\n",
       "       [-3.05096888e-01, -4.14723081e-01, -3.82133807e-01],\n",
       "       [-1.30351907e+00, -1.06047056e+00, -1.16053614e+00],\n",
       "       [-7.65907127e-01, -8.29428217e-01, -7.21542806e-01],\n",
       "       [-9.41453884e-01, -8.09645917e-01, -5.58918844e-01],\n",
       "       [ 1.45037069e+00,  2.08330557e+00,  1.18203691e+00],\n",
       "       [-4.14813612e-01, -4.99940939e-01, -5.56977407e-01],\n",
       "       [ 3.09316762e-01,  9.27743954e-01,  2.22452748e-01],\n",
       "       [-4.80643646e-01, -6.73852555e-01, -3.11785239e-01],\n",
       "       [-1.95380165e-01,  5.58692075e-01, -8.93193136e-02],\n",
       "       [ 1.01150379e+00,  4.46973399e-01,  1.39348232e+00],\n",
       "       [-4.69671974e-01, -6.61838540e-01, -3.86245087e-01],\n",
       "       [-6.34247059e-01, -6.47491706e-01, -5.66970101e-01],\n",
       "       [ 2.58045294e+00,  5.43833816e-02,  1.06823439e+00],\n",
       "       [ 2.98640481e+00,  4.64982757e-01,  1.53286613e+00],\n",
       "       [-5.24530335e-01, -6.57406185e-01, -4.42775186e-01],\n",
       "       [ 3.09316762e-01,  1.23915189e+00,  3.10274256e-01],\n",
       "       [ 5.17778537e-01,  1.21768996e+00,  4.41035798e-01],\n",
       "       [ 9.78588775e-01,  7.15737413e-01,  1.29800926e+00],\n",
       "       [ 1.23093724e+00, -5.35866343e-01, -1.84678168e-01],\n",
       "       [ 1.66685022e-01,  9.41740864e-01,  8.85506448e-02],\n",
       "       [ 6.16523588e-01,  1.45682718e+00,  5.12240883e-01],\n",
       "       [-7.22020437e-01, -7.17686213e-01, -6.42857476e-01],\n",
       "       [-1.89598938e+00, -1.53524577e+00, -1.65160569e+00],\n",
       "       [ 1.68077580e+00, -2.11604578e-01,  4.73469229e-01],\n",
       "       [ 2.21543384e-01,  1.27988290e+00,  5.58492782e-01],\n",
       "       [ 1.88923758e+00, -4.04295383e-01,  3.40081035e-01],\n",
       "       [-1.40521803e-01, -4.97374839e-01, -3.50732589e-02],\n",
       "       [-9.66351141e-02,  8.59578999e-01,  2.25935916e-01],\n",
       "       [ 1.34065396e+00,  7.08459019e-01,  1.66996589e+00],\n",
       "       [-9.30482212e-01, -3.00438305e-01, -9.29276645e-01],\n",
       "       [ 1.07733383e+00,  4.38248658e-01,  1.17980996e+00],\n",
       "       [ 5.17778537e-01,  1.84741277e-01,  6.02175132e-01],\n",
       "       [ 2.32515056e-01, -2.58447573e-01,  1.91275542e-01],\n",
       "       [-2.94125216e-01, -3.02397873e-01, -9.89123001e-02],\n",
       "       [-1.39129245e+00, -1.49675426e+00, -1.73851358e+00],\n",
       "       [ 4.08061813e-01,  4.78443120e-01,  1.29138553e+00],\n",
       "       [-3.05096888e-01, -2.70298291e-01, -2.65647542e-01],\n",
       "       [-5.24530335e-01, -6.02584951e-01, -4.42775186e-01],\n",
       "       [ 7.26240311e-01,  1.70307949e+00,  6.10968703e-01],\n",
       "       [ 8.98833157e-02,  1.98110121e-02,  2.17656255e-01],\n",
       "       [-1.46809416e+00, -1.51369053e+00, -1.79984017e+00],\n",
       "       [ 7.59155328e-01, -6.96410909e-01, -8.13251582e-02],\n",
       "       [-7.98822144e-01, -7.27250769e-01, -7.97144676e-01],\n",
       "       [-1.54489586e+00, -1.54196429e+00, -1.72629394e+00],\n",
       "       [-8.56634417e-02,  8.83420403e-01,  2.95608055e-03],\n",
       "       [-8.56634417e-02,  4.28592584e-02,  1.12133403e-01],\n",
       "       [ 8.68872052e-01, -6.43082679e-01,  4.79517554e-02],\n",
       "       [ 6.79399710e-02, -3.55959384e-01,  1.97438070e-02],\n",
       "       [-1.95380165e-01, -5.25718583e-01, -3.52269926e-01],\n",
       "       [ 1.28579560e+00,  5.70029572e-01,  1.82322527e+00],\n",
       "       [-5.24530335e-01, -7.12227418e-01, -4.42775186e-01],\n",
       "       [-1.20477402e+00, -1.13586725e+00, -1.06689032e+00],\n",
       "       [ 1.34065396e+00,  8.60278844e-01,  1.80552393e+00],\n",
       "       [-1.20477402e+00, -1.34390800e+00, -1.38254526e+00],\n",
       "       [ 7.15268639e-01,  1.50126737e+00,  7.24657013e-01],\n",
       "       [-8.56634417e-02,  6.24010991e-01, -3.79283144e-02],\n",
       "       [ 1.22798333e-01, -2.03579683e-01, -5.49444452e-02],\n",
       "       [ 5.06806865e-01,  1.46065300e+00,  4.96994886e-01],\n",
       "       [-4.69671974e-01, -4.43486733e-01, -3.86245087e-01],\n",
       "       [ 4.59966263e-02, -8.63322275e-02,  4.77866015e-01]])"
      ]
     },
     "execution_count": 81,
     "metadata": {},
     "output_type": "execute_result"
    }
   ],
   "source": [
    "x1_train_scaled"
   ]
  },
  {
   "cell_type": "code",
   "execution_count": 82,
   "metadata": {},
   "outputs": [],
   "source": [
    "x1_test_scaled=Sc1.fit_transform(x1_test)"
   ]
  },
  {
   "cell_type": "code",
   "execution_count": 83,
   "metadata": {},
   "outputs": [
    {
     "data": {
      "text/plain": [
       "array([[-0.61538189, -0.50428286, -0.54571508],\n",
       "       [-0.70645228,  0.20377203, -0.58606739],\n",
       "       [-0.95689585, -0.87549678, -0.65984283],\n",
       "       [-1.33256121, -1.13167034, -1.0766129 ],\n",
       "       [ 0.80759295,  0.31723522,  1.18087465],\n",
       "       [ 0.69375496,  2.20102119,  1.41076054],\n",
       "       [-0.72921987, -0.98543455, -0.61161027],\n",
       "       [ 0.92143094, -0.50497867,  0.03409462],\n",
       "       [-0.76337127, -0.81503101, -0.60889294],\n",
       "       [ 1.98012422, -0.41452355,  0.5772204 ],\n",
       "       [ 0.40916   ,  1.16120474,  0.81607347],\n",
       "       [-0.84305786, -0.91492594, -0.36093683],\n",
       "       [ 0.22701922,  1.38483764,  0.71580409],\n",
       "       [ 1.44508568,  0.70630823,  1.96339697],\n",
       "       [ 0.51161418,  1.57096645,  0.72191808],\n",
       "       [ 0.86451194,  1.98761668,  1.20920279],\n",
       "       [ 1.08080412,  0.57088067,  1.75273617],\n",
       "       [-0.27386793, -0.53327489, -0.25971639],\n",
       "       [-1.78791315, -1.6321887 , -2.21279535],\n",
       "       [-1.20733942, -0.98991092, -0.95304244],\n",
       "       [-0.5470791 , -0.63407437, -0.24490696],\n",
       "       [ 0.3977762 ,  1.4300652 ,  0.41268624],\n",
       "       [ 0.19286782,  0.99546311, -0.10754606],\n",
       "       [ 0.12456503,  1.1038701 ,  0.29421077],\n",
       "       [ 0.86451194,  1.99854087,  1.19948834],\n",
       "       [-0.22833273, -0.56027227, -0.12996401],\n",
       "       [-0.86582546,  0.06243009, -0.93014896],\n",
       "       [-0.43324111, -0.25207542, -0.18933761],\n",
       "       [-0.43324111, -0.5521545 , -0.42139736],\n",
       "       [-0.61538189, -0.71720031, -0.47642324],\n",
       "       [-0.78613887, -0.56449351, -0.4796161 ],\n",
       "       [-1.89036734, -1.73697748, -2.20179018],\n",
       "       [-0.37632211, -0.30658043, -0.18872622],\n",
       "       [ 1.79798344, -0.38854669,  0.23347851],\n",
       "       [ 1.31986389,  0.77303628,  1.5910552 ],\n",
       "       [ 0.29532201, -0.90437284, -0.78171496],\n",
       "       [ 1.55892366,  0.70081134,  2.08520116],\n",
       "       [-0.95689585, -0.21561505, -0.8368767 ],\n",
       "       [-0.91136065, -0.7775965 , -0.83694463],\n",
       "       [ 0.52299798,  1.59910032,  1.06226332],\n",
       "       [ 1.43370188, -0.50729803, -0.13845566],\n",
       "       [-1.16180423, -0.88864757, -1.00276953],\n",
       "       [ 0.84174435, -0.73728599, -0.3440894 ],\n",
       "       [-1.24149082, -0.96692604, -1.15799685],\n",
       "       [-1.4122478 , -1.13064982, -1.28713782],\n",
       "       [ 0.46607899,  1.40448264,  0.51207248],\n",
       "       [ 1.43370188, -0.61282901, -0.04572687],\n",
       "       [-0.84305786, -0.77866341, -0.76004427],\n",
       "       [ 0.14733263,  1.13745447,  0.19584352],\n",
       "       [ 1.12633931,  0.66954634,  1.35777266],\n",
       "       [-0.95689585, -0.016521  , -0.75807421],\n",
       "       [ 1.41093428,  0.5718548 ,  1.86876604]])"
      ]
     },
     "execution_count": 83,
     "metadata": {},
     "output_type": "execute_result"
    }
   ],
   "source": [
    "x1_test_scaled"
   ]
  },
  {
   "cell_type": "code",
   "execution_count": 84,
   "metadata": {},
   "outputs": [],
   "source": [
    "from sklearn.linear_model import LinearRegression"
   ]
  },
  {
   "cell_type": "code",
   "execution_count": 85,
   "metadata": {},
   "outputs": [],
   "source": [
    "regressor=LinearRegression()"
   ]
  },
  {
   "cell_type": "code",
   "execution_count": 86,
   "metadata": {},
   "outputs": [
    {
     "data": {
      "text/plain": [
       "LinearRegression()"
      ]
     },
     "execution_count": 86,
     "metadata": {},
     "output_type": "execute_result"
    }
   ],
   "source": [
    "regressor.fit(x1_train_scaled,y1_train)"
   ]
  },
  {
   "cell_type": "code",
   "execution_count": 87,
   "metadata": {},
   "outputs": [
    {
     "data": {
      "text/plain": [
       "0.8921384664225411"
      ]
     },
     "execution_count": 87,
     "metadata": {},
     "output_type": "execute_result"
    }
   ],
   "source": [
    "regressor.score(x1_train_scaled,y1_train)"
   ]
  },
  {
   "cell_type": "code",
   "execution_count": 88,
   "metadata": {},
   "outputs": [],
   "source": [
    "y1_pred=regressor.predict(x1_test_scaled)"
   ]
  },
  {
   "cell_type": "code",
   "execution_count": 91,
   "metadata": {},
   "outputs": [
    {
     "data": {
      "text/plain": [
       "0.8599755517468697"
      ]
     },
     "execution_count": 91,
     "metadata": {},
     "output_type": "execute_result"
    }
   ],
   "source": [
    "regressor.score(x1_test_scaled,y1_test)"
   ]
  },
  {
   "cell_type": "code",
   "execution_count": 92,
   "metadata": {},
   "outputs": [],
   "source": [
    "from sklearn.metrics import mean_absolute_error,mean_squared_error"
   ]
  },
  {
   "cell_type": "code",
   "execution_count": 93,
   "metadata": {},
   "outputs": [],
   "source": [
    "MSE=mean_squared_error(y1_pred,y1_test)"
   ]
  },
  {
   "cell_type": "code",
   "execution_count": 94,
   "metadata": {},
   "outputs": [
    {
     "data": {
      "text/plain": [
       "15542.057849268516"
      ]
     },
     "execution_count": 94,
     "metadata": {},
     "output_type": "execute_result"
    }
   ],
   "source": [
    "MSE"
   ]
  },
  {
   "cell_type": "code",
   "execution_count": 95,
   "metadata": {},
   "outputs": [],
   "source": [
    "RMSE=np.sqrt(MSE)"
   ]
  },
  {
   "cell_type": "code",
   "execution_count": 96,
   "metadata": {},
   "outputs": [
    {
     "data": {
      "text/plain": [
       "124.66778994298615"
      ]
     },
     "execution_count": 96,
     "metadata": {},
     "output_type": "execute_result"
    }
   ],
   "source": [
    "RMSE"
   ]
  },
  {
   "cell_type": "code",
   "execution_count": 99,
   "metadata": {},
   "outputs": [],
   "source": [
    "MAE=mean_absolute_error(y1_pred,y1_test)"
   ]
  },
  {
   "cell_type": "code",
   "execution_count": 100,
   "metadata": {},
   "outputs": [
    {
     "data": {
      "text/plain": [
       "87.095124611349"
      ]
     },
     "execution_count": 100,
     "metadata": {},
     "output_type": "execute_result"
    }
   ],
   "source": [
    "MAE"
   ]
  },
  {
   "cell_type": "code",
   "execution_count": null,
   "metadata": {},
   "outputs": [],
   "source": []
  }
 ],
 "metadata": {
  "kernelspec": {
   "display_name": "Python 3",
   "language": "python",
   "name": "python3"
  },
  "language_info": {
   "codemirror_mode": {
    "name": "ipython",
    "version": 3
   },
   "file_extension": ".py",
   "mimetype": "text/x-python",
   "name": "python",
   "nbconvert_exporter": "python",
   "pygments_lexer": "ipython3",
   "version": "3.8.5"
  }
 },
 "nbformat": 4,
 "nbformat_minor": 4
}
